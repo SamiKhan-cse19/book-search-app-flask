{
  "cells": [
    {
      "cell_type": "code",
      "execution_count": 1,
      "metadata": {
        "colab": {
          "base_uri": "https://localhost:8080/"
        },
        "id": "PqcoUBmGoJlZ",
        "outputId": "501e21d7-8b33-4cc0-9570-bd59ecc34c91"
      },
      "outputs": [
        {
          "name": "stdout",
          "output_type": "stream",
          "text": [
            "Mounted at /content/gdrive\n"
          ]
        }
      ],
      "source": [
        "from google.colab import drive\n",
        "drive.mount('/content/gdrive')"
      ]
    },
    {
      "cell_type": "code",
      "execution_count": 2,
      "metadata": {
        "colab": {
          "base_uri": "https://localhost:8080/"
        },
        "id": "WP33uiyloWRW",
        "outputId": "b79e0424-1233-4993-dc2c-977e789fa40e"
      },
      "outputs": [
        {
          "name": "stderr",
          "output_type": "stream",
          "text": [
            "16559it [00:01, 8983.48it/s] \n"
          ]
        }
      ],
      "source": [
        "import numpy as np\n",
        "import pandas as pd\n",
        "import nltk\n",
        "import json\n",
        "import re\n",
        "import csv\n",
        "from tqdm import tqdm\n",
        "pd.set_option('display.max_colwidth', 300)\n",
        "\n",
        "data = []\n",
        "\n",
        "with open(\"/content/gdrive/MyDrive/Project/booksummaries.txt\", 'r') as f:\n",
        "    reader = csv.reader(f, dialect='excel-tab')\n",
        "    for row in tqdm(reader):\n",
        "        data.append(row)"
      ]
    },
    {
      "cell_type": "code",
      "execution_count": 3,
      "metadata": {
        "colab": {
          "base_uri": "https://localhost:8080/",
          "height": 528
        },
        "id": "2YvWuM9Aq7eu",
        "outputId": "d21a73e7-6149-42d8-d1db-a77280e1f266"
      },
      "outputs": [
        {
          "name": "stderr",
          "output_type": "stream",
          "text": [
            "100%|██████████| 16559/16559 [00:00<00:00, 949129.22it/s]\n"
          ]
        },
        {
          "data": {
            "text/html": [
              "\n",
              "  <div id=\"df-93b5d5a1-e509-4419-959a-498b35c8d5cb\">\n",
              "    <div class=\"colab-df-container\">\n",
              "      <div>\n",
              "<style scoped>\n",
              "    .dataframe tbody tr th:only-of-type {\n",
              "        vertical-align: middle;\n",
              "    }\n",
              "\n",
              "    .dataframe tbody tr th {\n",
              "        vertical-align: top;\n",
              "    }\n",
              "\n",
              "    .dataframe thead th {\n",
              "        text-align: right;\n",
              "    }\n",
              "</style>\n",
              "<table border=\"1\" class=\"dataframe\">\n",
              "  <thead>\n",
              "    <tr style=\"text-align: right;\">\n",
              "      <th></th>\n",
              "      <th>Index</th>\n",
              "      <th>ID</th>\n",
              "      <th>BookTitle</th>\n",
              "      <th>Author</th>\n",
              "      <th>Genre</th>\n",
              "      <th>Summary</th>\n",
              "    </tr>\n",
              "  </thead>\n",
              "  <tbody>\n",
              "    <tr>\n",
              "      <th>0</th>\n",
              "      <td>1</td>\n",
              "      <td>620</td>\n",
              "      <td>Animal Farm</td>\n",
              "      <td>George Orwell</td>\n",
              "      <td>{\"/m/016lj8\": \"Roman \\u00e0 clef\", \"/m/06nbt\": \"Satire\", \"/m/0dwly\": \"Children's literature\", \"/m/014dfn\": \"Speculative fiction\", \"/m/02xlf\": \"Fiction\"}</td>\n",
              "      <td>Old Major, the old boar on the Manor Farm, calls the animals on the farm for a meeting, where he compares the humans to parasites and teaches the animals a revolutionary song, 'Beasts of England'. When Major dies, two young pigs, Snowball and Napoleon, assume command and turn his dream into a p...</td>\n",
              "    </tr>\n",
              "    <tr>\n",
              "      <th>1</th>\n",
              "      <td>2</td>\n",
              "      <td>843</td>\n",
              "      <td>A Clockwork Orange</td>\n",
              "      <td>Anthony Burgess</td>\n",
              "      <td>{\"/m/06n90\": \"Science Fiction\", \"/m/0l67h\": \"Novella\", \"/m/014dfn\": \"Speculative fiction\", \"/m/0c082\": \"Utopian and dystopian fiction\", \"/m/06nbt\": \"Satire\", \"/m/02xlf\": \"Fiction\"}</td>\n",
              "      <td>Alex, a teenager living in near-future England, leads his gang on nightly orgies of opportunistic, random \"ultra-violence.\" Alex's friends (\"droogs\" in the novel's Anglo-Russian slang, Nadsat) are: Dim, a slow-witted bruiser who is the gang's muscle; Georgie, an ambitious second-in-command; and...</td>\n",
              "    </tr>\n",
              "    <tr>\n",
              "      <th>2</th>\n",
              "      <td>3</td>\n",
              "      <td>986</td>\n",
              "      <td>The Plague</td>\n",
              "      <td>Albert Camus</td>\n",
              "      <td>{\"/m/02m4t\": \"Existentialism\", \"/m/02xlf\": \"Fiction\", \"/m/0pym5\": \"Absurdist fiction\", \"/m/05hgj\": \"Novel\"}</td>\n",
              "      <td>The text of The Plague is divided into five parts. In the town of Oran, thousands of rats, initially unnoticed by the populace, begin to die in the streets. A hysteria develops soon afterward, causing the local newspapers to report the incident. Authorities responding to public pressure order t...</td>\n",
              "    </tr>\n",
              "    <tr>\n",
              "      <th>3</th>\n",
              "      <td>4</td>\n",
              "      <td>1756</td>\n",
              "      <td>An Enquiry Concerning Human Understanding</td>\n",
              "      <td>David Hume</td>\n",
              "      <td></td>\n",
              "      <td>The argument of the Enquiry proceeds by a series of incremental steps, separated into chapters which logically succeed one another. After expounding his epistemology, Hume explains how to apply his principles to specific topics. In the first section of the Enquiry, Hume provides a rough introdu...</td>\n",
              "    </tr>\n",
              "    <tr>\n",
              "      <th>4</th>\n",
              "      <td>5</td>\n",
              "      <td>2080</td>\n",
              "      <td>A Fire Upon the Deep</td>\n",
              "      <td>Vernor Vinge</td>\n",
              "      <td>{\"/m/03lrw\": \"Hard science fiction\", \"/m/06n90\": \"Science Fiction\", \"/m/014dfn\": \"Speculative fiction\", \"/m/01hmnh\": \"Fantasy\", \"/m/02xlf\": \"Fiction\"}</td>\n",
              "      <td>The novel posits that space around the Milky Way is divided into concentric layers called Zones, each being constrained by different laws of physics and each allowing for different degrees of biological and technological advancement. The innermost, the \"Unthinking Depths\", surrounds the galacti...</td>\n",
              "    </tr>\n",
              "  </tbody>\n",
              "</table>\n",
              "</div>\n",
              "      <button class=\"colab-df-convert\" onclick=\"convertToInteractive('df-93b5d5a1-e509-4419-959a-498b35c8d5cb')\"\n",
              "              title=\"Convert this dataframe to an interactive table.\"\n",
              "              style=\"display:none;\">\n",
              "        \n",
              "  <svg xmlns=\"http://www.w3.org/2000/svg\" height=\"24px\"viewBox=\"0 0 24 24\"\n",
              "       width=\"24px\">\n",
              "    <path d=\"M0 0h24v24H0V0z\" fill=\"none\"/>\n",
              "    <path d=\"M18.56 5.44l.94 2.06.94-2.06 2.06-.94-2.06-.94-.94-2.06-.94 2.06-2.06.94zm-11 1L8.5 8.5l.94-2.06 2.06-.94-2.06-.94L8.5 2.5l-.94 2.06-2.06.94zm10 10l.94 2.06.94-2.06 2.06-.94-2.06-.94-.94-2.06-.94 2.06-2.06.94z\"/><path d=\"M17.41 7.96l-1.37-1.37c-.4-.4-.92-.59-1.43-.59-.52 0-1.04.2-1.43.59L10.3 9.45l-7.72 7.72c-.78.78-.78 2.05 0 2.83L4 21.41c.39.39.9.59 1.41.59.51 0 1.02-.2 1.41-.59l7.78-7.78 2.81-2.81c.8-.78.8-2.07 0-2.86zM5.41 20L4 18.59l7.72-7.72 1.47 1.35L5.41 20z\"/>\n",
              "  </svg>\n",
              "      </button>\n",
              "      \n",
              "  <style>\n",
              "    .colab-df-container {\n",
              "      display:flex;\n",
              "      flex-wrap:wrap;\n",
              "      gap: 12px;\n",
              "    }\n",
              "\n",
              "    .colab-df-convert {\n",
              "      background-color: #E8F0FE;\n",
              "      border: none;\n",
              "      border-radius: 50%;\n",
              "      cursor: pointer;\n",
              "      display: none;\n",
              "      fill: #1967D2;\n",
              "      height: 32px;\n",
              "      padding: 0 0 0 0;\n",
              "      width: 32px;\n",
              "    }\n",
              "\n",
              "    .colab-df-convert:hover {\n",
              "      background-color: #E2EBFA;\n",
              "      box-shadow: 0px 1px 2px rgba(60, 64, 67, 0.3), 0px 1px 3px 1px rgba(60, 64, 67, 0.15);\n",
              "      fill: #174EA6;\n",
              "    }\n",
              "\n",
              "    [theme=dark] .colab-df-convert {\n",
              "      background-color: #3B4455;\n",
              "      fill: #D2E3FC;\n",
              "    }\n",
              "\n",
              "    [theme=dark] .colab-df-convert:hover {\n",
              "      background-color: #434B5C;\n",
              "      box-shadow: 0px 1px 3px 1px rgba(0, 0, 0, 0.15);\n",
              "      filter: drop-shadow(0px 1px 2px rgba(0, 0, 0, 0.3));\n",
              "      fill: #FFFFFF;\n",
              "    }\n",
              "  </style>\n",
              "\n",
              "      <script>\n",
              "        const buttonEl =\n",
              "          document.querySelector('#df-93b5d5a1-e509-4419-959a-498b35c8d5cb button.colab-df-convert');\n",
              "        buttonEl.style.display =\n",
              "          google.colab.kernel.accessAllowed ? 'block' : 'none';\n",
              "\n",
              "        async function convertToInteractive(key) {\n",
              "          const element = document.querySelector('#df-93b5d5a1-e509-4419-959a-498b35c8d5cb');\n",
              "          const dataTable =\n",
              "            await google.colab.kernel.invokeFunction('convertToInteractive',\n",
              "                                                     [key], {});\n",
              "          if (!dataTable) return;\n",
              "\n",
              "          const docLinkHtml = 'Like what you see? Visit the ' +\n",
              "            '<a target=\"_blank\" href=https://colab.research.google.com/notebooks/data_table.ipynb>data table notebook</a>'\n",
              "            + ' to learn more about interactive tables.';\n",
              "          element.innerHTML = '';\n",
              "          dataTable['output_type'] = 'display_data';\n",
              "          await google.colab.output.renderOutput(dataTable, element);\n",
              "          const docLink = document.createElement('div');\n",
              "          docLink.innerHTML = docLinkHtml;\n",
              "          element.appendChild(docLink);\n",
              "        }\n",
              "      </script>\n",
              "    </div>\n",
              "  </div>\n",
              "  "
            ],
            "text/plain": [
              "   Index    ID                                  BookTitle           Author  \\\n",
              "0      1   620                                Animal Farm    George Orwell   \n",
              "1      2   843                         A Clockwork Orange  Anthony Burgess   \n",
              "2      3   986                                 The Plague     Albert Camus   \n",
              "3      4  1756  An Enquiry Concerning Human Understanding       David Hume   \n",
              "4      5  2080                       A Fire Upon the Deep     Vernor Vinge   \n",
              "\n",
              "                                                                                                                                                                                  Genre  \\\n",
              "0                              {\"/m/016lj8\": \"Roman \\u00e0 clef\", \"/m/06nbt\": \"Satire\", \"/m/0dwly\": \"Children's literature\", \"/m/014dfn\": \"Speculative fiction\", \"/m/02xlf\": \"Fiction\"}   \n",
              "1  {\"/m/06n90\": \"Science Fiction\", \"/m/0l67h\": \"Novella\", \"/m/014dfn\": \"Speculative fiction\", \"/m/0c082\": \"Utopian and dystopian fiction\", \"/m/06nbt\": \"Satire\", \"/m/02xlf\": \"Fiction\"}   \n",
              "2                                                                           {\"/m/02m4t\": \"Existentialism\", \"/m/02xlf\": \"Fiction\", \"/m/0pym5\": \"Absurdist fiction\", \"/m/05hgj\": \"Novel\"}   \n",
              "3                                                                                                                                                                                         \n",
              "4                                {\"/m/03lrw\": \"Hard science fiction\", \"/m/06n90\": \"Science Fiction\", \"/m/014dfn\": \"Speculative fiction\", \"/m/01hmnh\": \"Fantasy\", \"/m/02xlf\": \"Fiction\"}   \n",
              "\n",
              "                                                                                                                                                                                                                                                                                                       Summary  \n",
              "0   Old Major, the old boar on the Manor Farm, calls the animals on the farm for a meeting, where he compares the humans to parasites and teaches the animals a revolutionary song, 'Beasts of England'. When Major dies, two young pigs, Snowball and Napoleon, assume command and turn his dream into a p...  \n",
              "1   Alex, a teenager living in near-future England, leads his gang on nightly orgies of opportunistic, random \"ultra-violence.\" Alex's friends (\"droogs\" in the novel's Anglo-Russian slang, Nadsat) are: Dim, a slow-witted bruiser who is the gang's muscle; Georgie, an ambitious second-in-command; and...  \n",
              "2   The text of The Plague is divided into five parts. In the town of Oran, thousands of rats, initially unnoticed by the populace, begin to die in the streets. A hysteria develops soon afterward, causing the local newspapers to report the incident. Authorities responding to public pressure order t...  \n",
              "3   The argument of the Enquiry proceeds by a series of incremental steps, separated into chapters which logically succeed one another. After expounding his epistemology, Hume explains how to apply his principles to specific topics. In the first section of the Enquiry, Hume provides a rough introdu...  \n",
              "4   The novel posits that space around the Milky Way is divided into concentric layers called Zones, each being constrained by different laws of physics and each allowing for different degrees of biological and technological advancement. The innermost, the \"Unthinking Depths\", surrounds the galacti...  "
            ]
          },
          "execution_count": 3,
          "metadata": {},
          "output_type": "execute_result"
        }
      ],
      "source": [
        "book_index = []\n",
        "book_id = []\n",
        "book_author = []\n",
        "book_name = []\n",
        "summary = []\n",
        "genre = []\n",
        "a = 1\n",
        "for i in tqdm(data):\n",
        "    book_index.append(a)\n",
        "    a = a+1\n",
        "    book_id.append(i[0])\n",
        "    book_name.append(i[2])\n",
        "    book_author.append(i[3])\n",
        "    genre.append(i[5])\n",
        "    summary.append(i[6])\n",
        "\n",
        "df = pd.DataFrame({'Index': book_index, 'ID': book_id, 'BookTitle': book_name, 'Author': book_author,\n",
        "                       'Genre': genre, 'Summary': summary})\n",
        "df.head()"
      ]
    },
    {
      "cell_type": "code",
      "execution_count": 4,
      "metadata": {
        "colab": {
          "base_uri": "https://localhost:8080/"
        },
        "id": "JnxvDgpfrK5m",
        "outputId": "9a7ab36c-4ba4-4be1-ca8b-e40c6909e75c"
      },
      "outputs": [
        {
          "name": "stdout",
          "output_type": "stream",
          "text": [
            "<class 'pandas.core.frame.DataFrame'>\n",
            "Int64Index: 12841 entries, 0 to 16558\n",
            "Data columns (total 7 columns):\n",
            " #   Column         Non-Null Count  Dtype \n",
            "---  ------         --------------  ----- \n",
            " 0   Index          12841 non-null  int64 \n",
            " 1   ID             12841 non-null  object\n",
            " 2   BookTitle      12841 non-null  object\n",
            " 3   Author         12841 non-null  object\n",
            " 4   Genre          12841 non-null  object\n",
            " 5   Summary        12841 non-null  object\n",
            " 6   clean_summary  12841 non-null  object\n",
            "dtypes: int64(1), object(6)\n",
            "memory usage: 802.6+ KB\n"
          ]
        }
      ],
      "source": [
        "def clean_data(df):\n",
        "  df.isna().sum()\n",
        "  df = df.drop(df[df['Genre'] == ''].index)\n",
        "  df = df.drop(df[df['Summary'] == ''].index)\n",
        "  genres_cleaned = []\n",
        "  for i in df['Genre']:\n",
        "      genres_cleaned.append(list(json.loads(i).values()))\n",
        "  df['Genre'] = genres_cleaned\n",
        "  \n",
        "  def clean_summary(text):\n",
        "    text = re.sub(\"\\'\", \"\", text)\n",
        "    text = re.sub(\"[^a-zA-Z]\",\" \",text)\n",
        "    text = ' '.join(text.split())\n",
        "    text = text.lower()\n",
        "    return text \n",
        "\n",
        "  df['clean_summary'] = df['Summary'].apply(lambda x: clean_summary(x))\n",
        "  return df\n",
        "\n",
        "df = clean_data(df)\n",
        "df.info()"
      ]
    },
    {
      "cell_type": "code",
      "execution_count": 5,
      "metadata": {
        "id": "5UsxeeQM-aRA"
      },
      "outputs": [],
      "source": [
        "df.to_csv('/content/gdrive/MyDrive/Project/booksummaries.csv')"
      ]
    },
    {
      "cell_type": "code",
      "execution_count": 6,
      "metadata": {
        "colab": {
          "base_uri": "https://localhost:8080/"
        },
        "id": "_qjfgbFAr0dB",
        "outputId": "0fc42793-d0ad-4ac7-ea63-8f02403ac280"
      },
      "outputs": [
        {
          "name": "stdout",
          "output_type": "stream",
          "text": [
            "Looking in indexes: https://pypi.org/simple, https://us-python.pkg.dev/colab-wheels/public/simple/\n",
            "Collecting sentence-transformers\n",
            "  Downloading sentence-transformers-2.2.2.tar.gz (85 kB)\n",
            "\u001b[2K     \u001b[90m━━━━━━━━━━━━━━━━━━━━━━━━━━━━━━━━━━━━━━━━\u001b[0m \u001b[32m86.0/86.0 kB\u001b[0m \u001b[31m7.6 MB/s\u001b[0m eta \u001b[36m0:00:00\u001b[0m\n",
            "\u001b[?25h  Preparing metadata (setup.py) ... \u001b[?25l\u001b[?25hdone\n",
            "Collecting transformers<5.0.0,>=4.6.0 (from sentence-transformers)\n",
            "  Downloading transformers-4.29.2-py3-none-any.whl (7.1 MB)\n",
            "\u001b[2K     \u001b[90m━━━━━━━━━━━━━━━━━━━━━━━━━━━━━━━━━━━━━━━━\u001b[0m \u001b[32m7.1/7.1 MB\u001b[0m \u001b[31m103.4 MB/s\u001b[0m eta \u001b[36m0:00:00\u001b[0m\n",
            "\u001b[?25hRequirement already satisfied: tqdm in /usr/local/lib/python3.10/dist-packages (from sentence-transformers) (4.65.0)\n",
            "Requirement already satisfied: torch>=1.6.0 in /usr/local/lib/python3.10/dist-packages (from sentence-transformers) (2.0.1+cu118)\n",
            "Requirement already satisfied: torchvision in /usr/local/lib/python3.10/dist-packages (from sentence-transformers) (0.15.2+cu118)\n",
            "Requirement already satisfied: numpy in /usr/local/lib/python3.10/dist-packages (from sentence-transformers) (1.22.4)\n",
            "Requirement already satisfied: scikit-learn in /usr/local/lib/python3.10/dist-packages (from sentence-transformers) (1.2.2)\n",
            "Requirement already satisfied: scipy in /usr/local/lib/python3.10/dist-packages (from sentence-transformers) (1.10.1)\n",
            "Requirement already satisfied: nltk in /usr/local/lib/python3.10/dist-packages (from sentence-transformers) (3.8.1)\n",
            "Collecting sentencepiece (from sentence-transformers)\n",
            "  Downloading sentencepiece-0.1.99-cp310-cp310-manylinux_2_17_x86_64.manylinux2014_x86_64.whl (1.3 MB)\n",
            "\u001b[2K     \u001b[90m━━━━━━━━━━━━━━━━━━━━━━━━━━━━━━━━━━━━━━━━\u001b[0m \u001b[32m1.3/1.3 MB\u001b[0m \u001b[31m83.8 MB/s\u001b[0m eta \u001b[36m0:00:00\u001b[0m\n",
            "\u001b[?25hCollecting huggingface-hub>=0.4.0 (from sentence-transformers)\n",
            "  Downloading huggingface_hub-0.14.1-py3-none-any.whl (224 kB)\n",
            "\u001b[2K     \u001b[90m━━━━━━━━━━━━━━━━━━━━━━━━━━━━━━━━━━━━━━\u001b[0m \u001b[32m224.5/224.5 kB\u001b[0m \u001b[31m26.8 MB/s\u001b[0m eta \u001b[36m0:00:00\u001b[0m\n",
            "\u001b[?25hRequirement already satisfied: filelock in /usr/local/lib/python3.10/dist-packages (from huggingface-hub>=0.4.0->sentence-transformers) (3.12.0)\n",
            "Requirement already satisfied: fsspec in /usr/local/lib/python3.10/dist-packages (from huggingface-hub>=0.4.0->sentence-transformers) (2023.4.0)\n",
            "Requirement already satisfied: requests in /usr/local/lib/python3.10/dist-packages (from huggingface-hub>=0.4.0->sentence-transformers) (2.27.1)\n",
            "Requirement already satisfied: pyyaml>=5.1 in /usr/local/lib/python3.10/dist-packages (from huggingface-hub>=0.4.0->sentence-transformers) (6.0)\n",
            "Requirement already satisfied: typing-extensions>=3.7.4.3 in /usr/local/lib/python3.10/dist-packages (from huggingface-hub>=0.4.0->sentence-transformers) (4.5.0)\n",
            "Requirement already satisfied: packaging>=20.9 in /usr/local/lib/python3.10/dist-packages (from huggingface-hub>=0.4.0->sentence-transformers) (23.1)\n",
            "Requirement already satisfied: sympy in /usr/local/lib/python3.10/dist-packages (from torch>=1.6.0->sentence-transformers) (1.11.1)\n",
            "Requirement already satisfied: networkx in /usr/local/lib/python3.10/dist-packages (from torch>=1.6.0->sentence-transformers) (3.1)\n",
            "Requirement already satisfied: jinja2 in /usr/local/lib/python3.10/dist-packages (from torch>=1.6.0->sentence-transformers) (3.1.2)\n",
            "Requirement already satisfied: triton==2.0.0 in /usr/local/lib/python3.10/dist-packages (from torch>=1.6.0->sentence-transformers) (2.0.0)\n",
            "Requirement already satisfied: cmake in /usr/local/lib/python3.10/dist-packages (from triton==2.0.0->torch>=1.6.0->sentence-transformers) (3.25.2)\n",
            "Requirement already satisfied: lit in /usr/local/lib/python3.10/dist-packages (from triton==2.0.0->torch>=1.6.0->sentence-transformers) (16.0.5)\n",
            "Requirement already satisfied: regex!=2019.12.17 in /usr/local/lib/python3.10/dist-packages (from transformers<5.0.0,>=4.6.0->sentence-transformers) (2022.10.31)\n",
            "Collecting tokenizers!=0.11.3,<0.14,>=0.11.1 (from transformers<5.0.0,>=4.6.0->sentence-transformers)\n",
            "  Downloading tokenizers-0.13.3-cp310-cp310-manylinux_2_17_x86_64.manylinux2014_x86_64.whl (7.8 MB)\n",
            "\u001b[2K     \u001b[90m━━━━━━━━━━━━━━━━━━━━━━━━━━━━━━━━━━━━━━━━\u001b[0m \u001b[32m7.8/7.8 MB\u001b[0m \u001b[31m112.3 MB/s\u001b[0m eta \u001b[36m0:00:00\u001b[0m\n",
            "\u001b[?25hRequirement already satisfied: click in /usr/local/lib/python3.10/dist-packages (from nltk->sentence-transformers) (8.1.3)\n",
            "Requirement already satisfied: joblib in /usr/local/lib/python3.10/dist-packages (from nltk->sentence-transformers) (1.2.0)\n",
            "Requirement already satisfied: threadpoolctl>=2.0.0 in /usr/local/lib/python3.10/dist-packages (from scikit-learn->sentence-transformers) (3.1.0)\n",
            "Requirement already satisfied: pillow!=8.3.*,>=5.3.0 in /usr/local/lib/python3.10/dist-packages (from torchvision->sentence-transformers) (8.4.0)\n",
            "Requirement already satisfied: MarkupSafe>=2.0 in /usr/local/lib/python3.10/dist-packages (from jinja2->torch>=1.6.0->sentence-transformers) (2.1.2)\n",
            "Requirement already satisfied: urllib3<1.27,>=1.21.1 in /usr/local/lib/python3.10/dist-packages (from requests->huggingface-hub>=0.4.0->sentence-transformers) (1.26.15)\n",
            "Requirement already satisfied: certifi>=2017.4.17 in /usr/local/lib/python3.10/dist-packages (from requests->huggingface-hub>=0.4.0->sentence-transformers) (2022.12.7)\n",
            "Requirement already satisfied: charset-normalizer~=2.0.0 in /usr/local/lib/python3.10/dist-packages (from requests->huggingface-hub>=0.4.0->sentence-transformers) (2.0.12)\n",
            "Requirement already satisfied: idna<4,>=2.5 in /usr/local/lib/python3.10/dist-packages (from requests->huggingface-hub>=0.4.0->sentence-transformers) (3.4)\n",
            "Requirement already satisfied: mpmath>=0.19 in /usr/local/lib/python3.10/dist-packages (from sympy->torch>=1.6.0->sentence-transformers) (1.3.0)\n",
            "Building wheels for collected packages: sentence-transformers\n",
            "  Building wheel for sentence-transformers (setup.py) ... \u001b[?25l\u001b[?25hdone\n",
            "  Created wheel for sentence-transformers: filename=sentence_transformers-2.2.2-py3-none-any.whl size=125926 sha256=be65fc38bd54b08b7299a8479997054d8aa1c0caebb889e69c0d63f3bf3e6545\n",
            "  Stored in directory: /root/.cache/pip/wheels/62/f2/10/1e606fd5f02395388f74e7462910fe851042f97238cbbd902f\n",
            "Successfully built sentence-transformers\n",
            "Installing collected packages: tokenizers, sentencepiece, huggingface-hub, transformers, sentence-transformers\n",
            "Successfully installed huggingface-hub-0.14.1 sentence-transformers-2.2.2 sentencepiece-0.1.99 tokenizers-0.13.3 transformers-4.29.2\n"
          ]
        }
      ],
      "source": [
        "!pip install sentence-transformers"
      ]
    },
    {
      "cell_type": "code",
      "execution_count": 7,
      "metadata": {
        "colab": {
          "base_uri": "https://localhost:8080/"
        },
        "id": "imz6DxqLtbH1",
        "outputId": "c163c4ce-bbd8-4209-ccfb-6eec49d0280c"
      },
      "outputs": [
        {
          "name": "stdout",
          "output_type": "stream",
          "text": [
            "Wed May 24 13:37:34 2023       \n",
            "+-----------------------------------------------------------------------------+\n",
            "| NVIDIA-SMI 525.85.12    Driver Version: 525.85.12    CUDA Version: 12.0     |\n",
            "|-------------------------------+----------------------+----------------------+\n",
            "| GPU  Name        Persistence-M| Bus-Id        Disp.A | Volatile Uncorr. ECC |\n",
            "| Fan  Temp  Perf  Pwr:Usage/Cap|         Memory-Usage | GPU-Util  Compute M. |\n",
            "|                               |                      |               MIG M. |\n",
            "|===============================+======================+======================|\n",
            "|   0  Tesla T4            Off  | 00000000:00:04.0 Off |                    0 |\n",
            "| N/A   38C    P8    11W /  70W |      0MiB / 15360MiB |      0%      Default |\n",
            "|                               |                      |                  N/A |\n",
            "+-------------------------------+----------------------+----------------------+\n",
            "                                                                               \n",
            "+-----------------------------------------------------------------------------+\n",
            "| Processes:                                                                  |\n",
            "|  GPU   GI   CI        PID   Type   Process name                  GPU Memory |\n",
            "|        ID   ID                                                   Usage      |\n",
            "|=============================================================================|\n",
            "|  No running processes found                                                 |\n",
            "+-----------------------------------------------------------------------------+\n"
          ]
        }
      ],
      "source": [
        "!nvidia-smi "
      ]
    },
    {
      "cell_type": "code",
      "execution_count": null,
      "metadata": {
        "id": "Ljc5n59Tto8D"
      },
      "outputs": [],
      "source": [
        "from sentence_transformers import SentenceTransformer\n",
        "model = SentenceTransformer('msmarco-distilbert-base-dot-prod-v3')"
      ]
    },
    {
      "cell_type": "code",
      "execution_count": 8,
      "metadata": {
        "colab": {
          "base_uri": "https://localhost:8080/"
        },
        "id": "Wc99oqY3t2Nc",
        "outputId": "3bf8ec66-52f8-45f2-aa96-b32cd6c46dac"
      },
      "outputs": [
        {
          "name": "stdout",
          "output_type": "stream",
          "text": [
            "Looking in indexes: https://pypi.org/simple, https://us-python.pkg.dev/colab-wheels/public/simple/\n",
            "Collecting faiss-gpu\n",
            "  Downloading faiss_gpu-1.7.2-cp310-cp310-manylinux_2_17_x86_64.manylinux2014_x86_64.whl (85.5 MB)\n",
            "\u001b[2K     \u001b[90m━━━━━━━━━━━━━━━━━━━━━━━━━━━━━━━━━━━━━━━━\u001b[0m \u001b[32m85.5/85.5 MB\u001b[0m \u001b[31m9.1 MB/s\u001b[0m eta \u001b[36m0:00:00\u001b[0m\n",
            "\u001b[?25hInstalling collected packages: faiss-gpu\n",
            "Successfully installed faiss-gpu-1.7.2\n"
          ]
        }
      ],
      "source": [
        "!pip install faiss-gpu"
      ]
    },
    {
      "cell_type": "code",
      "execution_count": null,
      "metadata": {
        "id": "6B20KTzjt_5N"
      },
      "outputs": [],
      "source": [
        "import faiss\n",
        "encoded_data = model.encode(df.clean_summary.tolist())\n",
        "encoded_data = np.asarray(encoded_data.astype('float32'))\n",
        "index = faiss.IndexIDMap(faiss.IndexFlatIP(768))\n",
        "index.add_with_ids(encoded_data, np.array(range(0, len(df))))\n",
        "faiss.write_index(index, '/content/gdrive/MyDrive/Project/booksummaries.index')"
      ]
    },
    {
      "cell_type": "code",
      "execution_count": 12,
      "metadata": {
        "id": "R3Q7pTxjuVL_"
      },
      "outputs": [],
      "source": [
        "def fetch_book_info(dataframe_idx):\n",
        "    info = df.iloc[dataframe_idx]\n",
        "    meta_dict = {}\n",
        "    meta_dict['Title'] = info['BookTitle']\n",
        "    meta_dict['Author'] = info['Author']\n",
        "    meta_dict['Genre'] = info['Genre']\n",
        "    meta_dict['Summary'] = info['Summary']\n",
        "    return meta_dict\n",
        "    \n",
        "def search(query, top_k, index, model):\n",
        "    query_vector = model.encode([query])\n",
        "    top_k = index.search(query_vector, top_k)\n",
        "    top_k_ids = top_k[1].tolist()[0]\n",
        "    top_k_ids = list(np.unique(top_k_ids))\n",
        "    results =  [fetch_book_info(idx) for idx in top_k_ids]\n",
        "    return results"
      ]
    },
    {
      "cell_type": "code",
      "execution_count": null,
      "metadata": {
        "colab": {
          "base_uri": "https://localhost:8080/"
        },
        "id": "09tQQYBIu7mE",
        "outputId": "ce41781c-f3e4-44ef-86e1-376b86dffa25"
      },
      "outputs": [
        {
          "name": "stdout",
          "output_type": "stream",
          "text": [
            "\n",
            "\n",
            "\t {'Title': 'Cocaine Nights', 'Author': 'J. G. Ballard', 'Genre': ['Science Fiction', 'Speculative fiction', 'Fiction'], 'Summary': \" The story's protagonist, Charles Prentice, ventures to Estrella de Mar in order to rescue his jailed brother, Frank. Upon arriving and talking with his sibling, Charles finds to his horror that his brother has confessed to everything, and has no interest in trying to escape his plea. In a matter of days, Charles becomes immersed in the strange world of Estrella de Mar, learning more of her dark secrets, and spending less time worrying about his brother. Constantly being manipulated while he thinks he's finding the truth, Charles soon finds himself out of control and at the nexus of certain disaster, at which point he finally begins to understand just what happened to his brother.\"}\n",
            "\t {'Title': 'The Third Policeman', 'Author': \"Flann O'Brien\", 'Genre': ['Mystery', 'Comic novel', 'Speculative fiction', 'Fiction'], 'Summary': ' The Third Policeman is set in rural Ireland and is narrated by a dedicated amateur scholar of de Selby, a scientist and philosopher. The narrator, whose name we never learn, is orphaned at a young age. At boarding school, he discovers the work of de Selby and becomes a fanatically dedicated student of it. One night he breaks his leg under mysterious circumstances – \"if you like, it was broken for me\" – and he is ultimately fitted with a wooden leg to replace the original one. On returning to his family home, he meets and befriends John Divney who is in charge of the family farm and pub. Over the next few years, the narrator devotes himself to the study of de Selby\\'s work and leaves Divney to run the family business. By the time the narrator is thirty, he has written what he believes to be the definitive critical work on de Selby, but does not have enough money to publish the work. Divney observes that Mathers, a local man, \"is worth a packet of potato-meal\" and eventually it dawns on the narrator that Divney plans to rob and kill Mathers. The narrator and Divney encounter Mathers one night on the road and Divney knocks Mathers down with a bicycle pump. The narrator, prompted by Divney, finishes Mathers off with a spade, and then notices that Divney has disappeared with Mathers\\'s cash box. When Divney returns he refuses to reveal where the cash box is, and fends off the narrator\\'s repeated inquiries. To ensure that Divney does not retrieve the box unobserved, the narrator becomes more and more inseparable from Divney, eventually sharing a bed with him: \"the situation was a queer one and neither of us liked it\". Three years pass, in which the previously amicable relationship between the narrator and Divney breaks down. Eventually Divney reveals that the box is hidden under the floorboards in Mathers\\'s old house, and instructs the narrator to fetch it. The narrator follows Divney\\'s instructions but just as he reaches for the box, \"something happened\":It was as if the daylight had changed with unnatural suddenness, as if the temperature of the evening had altered greatly in an instant or as if the air had become twice as rare or twice as dense as it had been in the winking of an eye; perhaps all of these and other things happened together for all my senses were bewildered all at once and could give me no explanation. The box has disappeared, and the narrator is perplexed to notice that Mathers is in the room with him. During a surreal conversation with the apparently deceased Mathers, the narrator hears another voice speaking to him which he realises is his soul: &#34;For convenience I called him Joe.&#34; The narrator is bent on finding the cash box, and when Mathers tells him about a remarkable police barracks nearby he resolves to go to the barracks and enlist the help of the police in finding the box. On the way, he meets a one-legged bandit named Martin Finnucane, who threatens to kill him but who becomes his friend upon finding out that his potential victim is also one-legged. The narrator approaches the police barracks and is disturbed by its appearance:It looked as if it were painted like an advertisement on a board on the roadside and indeed very poorly painted. It looked completely false and unconvincing. Inside the barracks he meets two of the three policemen, Sergeant Pluck and Policeman MacCruiskeen, who speak largely in non sequitur and who are entirely obsessed with bicycles. There he is introduced to various peculiar or irrational concepts, artifacts, and locations, including a contraption that collects sound and converts it to light based on a theory regarding omnium, the fundamental energy of the universe; a vast underground chamber called &#39;Eternity,&#39; where time stands still, mysterious numbers are devoutly recorded and worried about by the policemen; a box from which anything you desire can be produced; and an intricate carved chest containing a series of identical but smaller chests. The infinite nature of this last device causes the narrator great mental and spiritual discomfort. It is later discovered that Mathers has been found dead and eviscerated in a ditch. Joe suspects Martin Finnucane, but to the narrator&#39;s dismay he himself is charged with the crime because he is the most convenient suspect. He argues with Sergeant Pluck that since he is nameless, and therefore, as Pluck observed, &#34;invisible to the law&#34;, he cannot be charged with anything. Pluck is surprised, but after he unsuccessfully attempts to guess the narrator&#39;s name he reasons that since the narrator is nameless he is not really a person, and can therefore be hanged without fear of repercussions:The particular death you die is not even a death (which is an inferior phenomenon at best) only an insanitary abstraction in the backyard[...]. The narrator calls on the help of Finnucane, but his rescue is thwarted by MacCruiskeen riding a bicycle painted an unknown colour which drives those who see it mad. He faces the gallows, but the two policemen are called away by dangerously high readings in the underground chamber. The following day he escapes from the barracks on a bicycle of unusual perfection. As he rides through the countryside, he passes Mathers&#39;s house and sees a light. Disturbed, he enters the house and finally meets the mysterious and reportedly all-powerful third policeman, Fox, who has the face of Mathers. Fox&#39;s secret police station is in the walls of Mathers&#39;s house. He tells the narrator that he is the architect of the readings in the underground chamber, which he alters for his amusement, thereby inadvertently saving the narrator&#39;s life. Fox goes on to tell the narrator that he found the cash box and has sent it to the narrator&#39;s home, where it is waiting for him. He also reveals that the box contains not money but omnium, which can become anything he desires. Divney can see the narrator, although the others cannot, and he has a heart attack from the shock. He shouts that the narrator was supposed to be dead, for the black box was not filled with money but a bomb and it exploded when the narrator reached for it. The narrator leaves Divney on the floor, apparently dying. Feeling &#34;sad, empty and without a thought&#34;, the narrator leaves the house and walks away down the road. He soon approaches the police barracks, the book using exactly the same words to describe the barracks and the narrator&#39;s opinion of it that were used earlier, the story having circled around itself and restarted. This time, John Divney joins the narrator on the road; they neither look at nor speak to each other. They both enter the police station and are confronted by Sergeant Pluck, who repeats his earlier dialogue and ends the book with a reprise of his original greeting to the narrator:\"Is it about a bicycle?\" he asked.'}\n",
            "\t {'Title': 'Lizzie Bright and the Buckminster Boy', 'Author': 'Gary D. Schmidt', 'Genre': ['Historical fiction', \"Children's literature\"], 'Summary': \" This book is set in 1912. Turner Buckminster, the son of Reverend Buckminster (Preacher in Phippsburg, Maine), has just moved from Boston, Massachusetts to Phippsburg, Maine and is constantly being teased for simple misunderstandings, not to mentioned being automatically disliked by the boys of Phippsburg for playing baseball differently. Turner meets an african-american girl, Lizzie Bright Griffin, befriends her, despite his difficulty with social situations. Turner has to save Lizzie's family and friends before they all must leave Malaga Island. But that means standing up to the authorities, including Turner's father.\"}\n",
            "\t {'Title': 'Danny Dunn and the Fossil Cave', 'Author': 'Raymond Abrashkin', 'Genre': ['Science Fiction', 'Speculative fiction', \"Children's literature\"], 'Summary': ' Danny and his friend Joe Pearson discover the entrance to a cave in the woods near their home. Professor Bulfinch has just invented a portable x-ray machine, and he, along with his geologist friend Dr. Tresselt, see an opportunity to use the device in the cave. The two adults, plus Danny, Joe, and Irene, enter the cave on an expedition. What they find is astonishing...but will they be able to escape to reveal their discovery?'}\n",
            "\t {'Title': 'Alexandria', 'Author': 'Lindsey Davis', 'Genre': ['Crime Fiction'], 'Summary': \" The story is set in AD 77, in Alexandria, Egypt, which was at that time part of the Roman Empire. Falco and his family travel to Egypt to see two of the seven wonders of the world, the Lighthouse of Alexandria and the Great Pyramid of Giza, but are caught up in investigation into a mysterious death, and soon several deaths. The plot revolves around the Library of Alexandria, with reference to library management practice, corruption, illegal autopsies, a man-eating crocodile, and the legendary catoblepas. For the duration of their trip, Falco and his family have chosen to stay with his mother's brother, Fulvius, and his live-in partner Cassius who host a dinner party to which Falco's family and the Chief Librarian of the Serapaeion, Theon, are invited. When Theon is found dead later in mysterious circumstances, locked in his own private Chamber at the Serapaeion, Falco, Fulvius and the others fall under suspicion by the authorities, and it is up to Falco to clear everyone's names, eventually unravelling a web of corruption, deceit and even murder at the Library of Alexandria.\"}\n"
          ]
        }
      ],
      "source": [
        "query=\"Distopian adventure\"\n",
        "results=search(query, top_k=5, index=index, model=model)\n",
        "\n",
        "print(\"\\n\")\n",
        "for result in results:\n",
        "    print('\\t',result)"
      ]
    },
    {
      "cell_type": "code",
      "execution_count": null,
      "metadata": {
        "id": "hg_h73uXI6Lp"
      },
      "outputs": [],
      "source": [
        "paragraphs=df.clean_summary.tolist()"
      ]
    },
    {
      "cell_type": "code",
      "execution_count": null,
      "metadata": {
        "id": "03Oa7LBNI_y6"
      },
      "outputs": [],
      "source": [
        "from transformers import T5Tokenizer, T5ForConditionalGeneration\n",
        "import torch\n",
        "tokenizer = T5Tokenizer.from_pretrained('BeIR/query-gen-msmarco-t5-large-v1')\n",
        "model = T5ForConditionalGeneration.from_pretrained('BeIR/query-gen-msmarco-t5-large-v1')\n",
        "model.eval()"
      ]
    },
    {
      "cell_type": "code",
      "execution_count": null,
      "metadata": {
        "id": "8eHet4UpJCTL"
      },
      "outputs": [],
      "source": [
        "#Select the device\n",
        "device = 'cuda'\n",
        "model.to(device)"
      ]
    },
    {
      "cell_type": "code",
      "execution_count": null,
      "metadata": {
        "id": "vgBG4XrbJFF0"
      },
      "outputs": [],
      "source": [
        "# Parameters for generation\n",
        "batch_size = 16 #Batch size\n",
        "num_queries = 5 #Number of queries to generate for every paragraph\n",
        "max_length_paragraph = 512 #Max length for paragraph\n",
        "max_length_query = 64   #Max length for output query"
      ]
    },
    {
      "cell_type": "code",
      "execution_count": null,
      "metadata": {
        "id": "hpEOOAOyJICB"
      },
      "outputs": [],
      "source": [
        "def _removeNonAscii(s): return \"\".join(i for i in s if ord(i) < 128)"
      ]
    },
    {
      "cell_type": "code",
      "execution_count": null,
      "metadata": {
        "colab": {
          "base_uri": "https://localhost:8080/"
        },
        "id": "7BKfwWK1JO2k",
        "outputId": "418e60d3-d091-4d2c-fc0b-a0b06df3fe86"
      },
      "outputs": [
        {
          "name": "stderr",
          "output_type": "stream",
          "text": [
            "\r  0%|          | 0/803 [00:00<?, ?it/s]/usr/local/lib/python3.10/dist-packages/transformers/tokenization_utils_base.py:3732: FutureWarning: \n",
            "`prepare_seq2seq_batch` is deprecated and will be removed in version 5 of HuggingFace Transformers. Use the regular\n",
            "`__call__` method to prepare your inputs and targets.\n",
            "\n",
            "Here is a short example:\n",
            "\n",
            "model_inputs = tokenizer(src_texts, text_target=tgt_texts, ...)\n",
            "\n",
            "If you either need to use different keyword arguments for the source and target texts, you should do two calls like\n",
            "this:\n",
            "\n",
            "model_inputs = tokenizer(src_texts, ...)\n",
            "labels = tokenizer(text_target=tgt_texts, ...)\n",
            "model_inputs[\"labels\"] = labels[\"input_ids\"]\n",
            "\n",
            "See the documentation of your specific tokenizer for more details on the specific arguments to the tokenizer of choice.\n",
            "For a more complete example, see the implementation of `prepare_seq2seq_batch`.\n",
            "\n",
            "  warnings.warn(formatted_warning, FutureWarning)\n",
            "100%|██████████| 803/803 [1:41:56<00:00,  7.62s/it]\n"
          ]
        }
      ],
      "source": [
        "with open('/content/gdrive/MyDrive/Project/generated_queries_all.tsv', 'w') as fOut:\n",
        "    for start_idx in tqdm(range(0, len(paragraphs), batch_size)):\n",
        "        sub_paragraphs = paragraphs[start_idx:start_idx+batch_size]\n",
        "        inputs = tokenizer.prepare_seq2seq_batch(sub_paragraphs, max_length=max_length_paragraph, truncation=True, return_tensors='pt').to(device)\n",
        "        outputs = model.generate(\n",
        "            **inputs,\n",
        "            max_length=max_length_query,\n",
        "            do_sample=True,\n",
        "            top_p=0.95,\n",
        "            num_return_sequences=num_queries)\n",
        "\n",
        "        for idx, out in enumerate(outputs):\n",
        "            query = tokenizer.decode(out, skip_special_tokens=True)\n",
        "            query = _removeNonAscii(query)\n",
        "            para = sub_paragraphs[int(idx/num_queries)]\n",
        "            para = _removeNonAscii(para)\n",
        "            fOut.write(\"{}\\t{}\\n\".format(query.replace(\"\\t\", \" \").strip(), para.replace(\"\\t\", \" \").strip()))"
      ]
    },
    {
      "cell_type": "code",
      "execution_count": null,
      "metadata": {
        "colab": {
          "base_uri": "https://localhost:8080/",
          "height": 145,
          "referenced_widgets": [
            "d068135ea6fb41ed8afc27dd17b48d82",
            "cc93f7f7938c45c6b76f9dead3683bb4",
            "ee98ff7c37974d24bf1d175c0009a74b",
            "d7514009a8e74431a33eca80a64830f4",
            "67586bc618234b29ab22463d13b90b53",
            "4d7d89196a4d4874b41d77d413422756",
            "8827904ff3de4b2abd361bb386b3312a",
            "649e9e86cb7246a2b82d25b5eb6f1f70",
            "5d6dca01b1a74273a7c5651329a56ba6",
            "43e059de4f7547fbbcd72989b1b276d3",
            "ea5d448dc1964186ac73728ed8a3eaab",
            "7dcb1776dbfe4a7787edda1f45ea495d",
            "c14031c669fe46af945cb2d53efc51d4",
            "5e5c1f32632446ae91fd81b53ce5bcb5",
            "d31ad35c42cb439895e7f3fb2c0424b2",
            "4413af31729b4bc3a1c55df7a509165e",
            "580f94e028f44bf9a74ff064ad287f83",
            "10e810dfa3834d3dae2c6772e6064232",
            "221ffa13e4ac4bd0a2853b84a332dcda",
            "86665459eddb4406bc267a31b2301832",
            "f25fad46cce941c2a4dcb04ab032b264",
            "d806169711dc4359b8e95f88a3708c9d",
            "5e59c68135f040409b0505e3747da875",
            "5ed7eae7f34841e8befab5a21fb4f289",
            "515899be286b4d52896a623bcb2d81cf",
            "ea3563cb52d9477792309f8a54783ff6",
            "db797e4762de43c6b576786821a7f58c",
            "d187281c5bd845d4a51f2777d7fd648c",
            "61224b6624a64bcfa0d1d174192f74bc",
            "afed974b2f6a4bfe9085fd9925a4e1d2",
            "87ffa8b9822d40c4b782d52c1ad32219",
            "14785c6a23284e81ba04c0d89ac45041",
            "d5e9cb5c794843129ac6a905f22f1799",
            "bc34fd0dabd64c4a830321a46d578b5d",
            "051be8eb15ec48fe92a868348cf5480a",
            "de5c4fcbf0c34d939d4e09797b7ea516",
            "5d0efad76f664685ae7d943b79b7dc9b",
            "8bf8e78c9767406185f17d93140073d0",
            "30961fff92854a96a205c10b13905588",
            "fa6bfc2279de4f9798d723ccf9793cf1",
            "fcc4b3d8cb9e4669839e49135330b1cb",
            "8c25636e4e51467999e62792b1d39cc7",
            "0ad6c07f6b39450ba76d698c3c59b946",
            "5065e90366ef43c39f34f5227d6d7f11"
          ]
        },
        "id": "3sy3eI2-Jsal",
        "outputId": "020b281d-5534-493a-88ec-1884e9cd0241"
      },
      "outputs": [
        {
          "data": {
            "application/vnd.jupyter.widget-view+json": {
              "model_id": "d068135ea6fb41ed8afc27dd17b48d82",
              "version_major": 2,
              "version_minor": 0
            },
            "text/plain": [
              "Epoch:   0%|          | 0/3 [00:00<?, ?it/s]"
            ]
          },
          "metadata": {},
          "output_type": "display_data"
        },
        {
          "data": {
            "application/vnd.jupyter.widget-view+json": {
              "model_id": "7dcb1776dbfe4a7787edda1f45ea495d",
              "version_major": 2,
              "version_minor": 0
            },
            "text/plain": [
              "Iteration:   0%|          | 0/8022 [00:00<?, ?it/s]"
            ]
          },
          "metadata": {},
          "output_type": "display_data"
        },
        {
          "data": {
            "application/vnd.jupyter.widget-view+json": {
              "model_id": "5e59c68135f040409b0505e3747da875",
              "version_major": 2,
              "version_minor": 0
            },
            "text/plain": [
              "Iteration:   0%|          | 0/8022 [00:00<?, ?it/s]"
            ]
          },
          "metadata": {},
          "output_type": "display_data"
        },
        {
          "data": {
            "application/vnd.jupyter.widget-view+json": {
              "model_id": "bc34fd0dabd64c4a830321a46d578b5d",
              "version_major": 2,
              "version_minor": 0
            },
            "text/plain": [
              "Iteration:   0%|          | 0/8022 [00:00<?, ?it/s]"
            ]
          },
          "metadata": {},
          "output_type": "display_data"
        }
      ],
      "source": [
        "from sentence_transformers import SentenceTransformer, InputExample, losses, models, datasets\n",
        "from torch import nn\n",
        "import os\n",
        "import random\n",
        "\n",
        "train_examples = [] \n",
        "with open('/content/gdrive/MyDrive/Project/generated_queries_all.tsv') as fIn:\n",
        "    for line in fIn:\n",
        "        try:\n",
        "            query, paragraph = line.strip().split('\\t', maxsplit=1)\n",
        "            train_examples.append(InputExample(texts=[query, paragraph]))\n",
        "        except:\n",
        "            pass\n",
        "        \n",
        "random.shuffle(train_examples)\n",
        "\n",
        "# For the MultipleNegativesRankingLoss, it is important\n",
        "# that the batch does not contain duplicate entries, i.e.\n",
        "# no two equal queries and no two equal paragraphs.\n",
        "# To ensure this, we use a special data loader\n",
        "train_dataloader = datasets.NoDuplicatesDataLoader(train_examples, batch_size=8)\n",
        "\n",
        "# Now we create a SentenceTransformer model from scratch\n",
        "word_emb = models.Transformer('sentence-transformers/msmarco-distilbert-base-dot-prod-v3')\n",
        "pooling = models.Pooling(word_emb.get_word_embedding_dimension())\n",
        "model = SentenceTransformer(modules=[word_emb, pooling])\n",
        "\n",
        "\n",
        "# MultipleNegativesRankingLoss requires input pairs (query, relevant_passage)\n",
        "# and trains the model so that is is suitable for semantic search\n",
        "train_loss = losses.MultipleNegativesRankingLoss(model)\n",
        "\n",
        "\n",
        "#Tune the model\n",
        "num_epochs = 3\n",
        "warmup_steps = int(len(train_dataloader) * num_epochs * 0.1)\n",
        "model.fit(train_objectives=[(train_dataloader, train_loss)], epochs=num_epochs, warmup_steps=warmup_steps, show_progress_bar=True)\n",
        "\n",
        "os.makedirs('/content/gdrive/MyDrive/Project/search', exist_ok=True)\n",
        "model.save('/content/gdrive/MyDrive/Project/search/search-model')"
      ]
    },
    {
      "cell_type": "code",
      "execution_count": 9,
      "metadata": {
        "id": "8SKX8t9mvc4H"
      },
      "outputs": [],
      "source": [
        "from sentence_transformers import SentenceTransformer, util\n",
        "import gzip\n",
        "import json\n",
        "import os\n",
        "\n",
        "model = SentenceTransformer('/content/gdrive/MyDrive/Project/search/search-model')"
      ]
    },
    {
      "cell_type": "code",
      "execution_count": 10,
      "metadata": {
        "id": "WrhOxLoxcCN0"
      },
      "outputs": [],
      "source": [
        "import faiss\n",
        "encoded_data = model.encode(df.clean_summary.tolist())\n",
        "encoded_data = np.asarray(encoded_data.astype('float32'))\n",
        "index = faiss.IndexIDMap(faiss.IndexFlatIP(768))\n",
        "index.add_with_ids(encoded_data, np.array(range(0, len(df))))\n",
        "faiss.write_index(index, '/content/gdrive/MyDrive/Project/booksummaries-trained.index')"
      ]
    },
    {
      "cell_type": "code",
      "execution_count": 13,
      "metadata": {
        "colab": {
          "base_uri": "https://localhost:8080/"
        },
        "id": "Pndt9C7XcFj2",
        "outputId": "d9412e8d-c3e6-4236-c95c-16a265b842de"
      },
      "outputs": [
        {
          "name": "stdout",
          "output_type": "stream",
          "text": [
            "\n",
            "\n",
            "\t {'Title': 'The Crying of Lot 49', 'Author': 'Thomas Pynchon', 'Genre': ['Speculative fiction', 'Fiction', 'Novel'], 'Summary': ' The novel follows Oedipa Maas, a Californian housewife who becomes entangled in a convoluted historical mystery when her ex-lover dies and designates her the co-executor of his estate. The catalyst of Oedipa\\'s adventure is a set of stamps that may have been used by a secret underground postal delivery service, the Trystero (or Tristero). According to the historical narrative that Oedipa pieces together during her travels around the San Francisco Bay Area, the Trystero was defeated by Thurn und Taxis – a real postal system – in the 18th century but went underground and continued to exist into Oedipa\\'s present day, the 1960s. Their mailboxes are disguised as regular waste-bins, often displaying their slogan W.A.S.T.E., an acronym for We Await Silent Tristero\\'s Empire, and their symbol, a muted post horn. The existence and plans of this shadowy organization are revealed bit by bit; or, then again, it is possible that the Tristero does not exist at all. The novel\\'s main character, Oedipa Maas, is buffeted back and forth between believing and not believing in them, without ever finding firm proof either way. The Tristero may be a conspiracy, it may be a practical joke, or it may simply be that Oedipa is hallucinating all the arcane references to the underground network that she seems to be discovering on bus windows, toilet walls, and everywhere in the Bay Area. Prominent among these references is the \"Trystero symbol\", a muted post horn with one loop. Originally derived, supposedly, from the Thurn and Taxis coat of arms, Oedipa finds this symbol first in a bar bathroom, where it decorates a graffito advertising a group of polyamorists. It later appears among an engineer\\'s doodles, as part of a children\\'s sidewalk jump rope game, amidst Chinese ideograms in a shop window, and in many other places. The post horn (in either original or Trystero versions) appears on the cover art of many TCL49 editions, as well as within artwork created by the novel\\'s fans. Oedipa finds herself drawn into this shadowy intrigue when an old boyfriend, the California real estate mogul Pierce Inverarity, dies. Inverarity\\'s will names her as his executor. Soon enough, she learns that although Inverarity \"once lost two million dollars in his spare time [he] still had assets numerous and tangled enough to make the job of sorting it all out more than honorary.\" She leaves her comfortable home in Kinneret-Among-The-Pines, a northern California village, and travels south to the fictional town of San Narciso (Spanish for \"Saint Narcissus\"), near Los Angeles. Exploring puzzling coincidences she uncovers while parsing Inverarity\\'s testament, Oedipa finds what might be evidence for the Trystero\\'s existence. Sinking or ascending ever more deeply into paranoia, she finds herself torn between believing in the Trystero and believing that it is all a hoax established by Inverarity himself. Near the novel\\'s conclusion, she reflects, He might have written the testament only to harass a one-time mistress, so cynically sure of being wiped out he could throw away all hope of anything more. Bitterness could have run that deep in him. She just didn\\'t know. He might himself have discovered The Tristero, and encrypted that in the will, buying into just enough to be sure she\\'d find it. Or he might even have tried to survive death, as a paranoia; as a pure conspiracy against someone he loved. Along the way, Oedipa meets a wide range of eccentric characters. Her therapist in Kinneret, a Dr. Hilarius, turns out to have done his internship in Buchenwald, working to induce insanity in captive Jews. &#34;Liberal SS circles felt it would be more humane,&#34; he explains. In San Francisco, she meets a man who claims membership in the IA, Inamorati Anonymous—a group founded to help people avoid falling in love, &#34;the worst addiction of all&#34;. (Ironically, the anonymous inamorato wears a lapel pin shaped as the Trystero post horn, which Oedipa first saw on an advertisement for group sex.) And, in Berkeley, she meets John Nefastis, an engineer who believes he has built a working version of Maxwell\\'s demon, a means for defeating entropy. The book ends with Oedipa attending an auction, waiting for bidding to begin on a set of a rare postage stamps, which she believes representatives of Tristero are trying to acquire. (Auction items are called &#34;lots&#34;; a lot is &#34;cried&#34; when the auctioneer is taking bids on it; the stamps in question are &#34;Lot 49&#34;.)'}\n",
            "\t {'Title': 'Owls to Athens', 'Author': 'Harry Turtledove', 'Genre': ['Historical novel'], 'Summary': ' Sostratos and Menedemos arrive in Athens in time for the Dionysia. Sostratos spends much of his time visiting with his old teachers. His cousin, Menedemos finds himself having a sexual encounter with an important Athenian woman.'}\n",
            "\t {'Title': 'The Colossus of Rhodes', 'Author': 'Caroline Lawrence', 'Genre': ['Historical fiction', \"Children's literature\", 'Historical novel'], 'Summary': \" It is April, and the beginning of the sailing season. The book opens on the marina pier at Ostia as the newly-fitted Delphina (formerly the slave ship Vespa) prepares to sail. Passengers and crew are saying goodbye to their loved ones, making Lupus keenly feel the absence of his family. Though the purpose of the voyage is to rescue the freeborn children sold as slaves by Venalicius (the ship’s former owner), Lupus secretly intends to find his mother and not return to Ostia. Several bad omens make Captain Geminus consider postponing the trip, but Lupus, as the ship's owner, insists on sailing immediately. At the last minute, Marcus Artorius Bato joins the ship as a passenger, anxious to follow a recently-departed Greek ship connected with fresh cases of kidnapping in Ostia. Other passengers are the children’s tutor Aristo, the patrician poet Gaius Valerius Flaccus and his slave-boy, Zetes. Crew members include Atticus the cook, the good-looking Silvanus, and Zosimus, who keeps homing pigeons. During the voyage many things go wrong, and they begin to suspect there is a traitor on board. They drop Aristo off at Corinth to visit his family, and call at Symi to find Lupus's mother. He discovers she has gone to Rhodes to dedicate herself to the temple. On the way to the island, they discover that Zosimus is the traitor, who has been sending messages ahead via his pigeons. Bato and Flaccus tie Zosimus up and interrogate him about the gang’s activities, but Flaccus is shaken to learn that Zetes, his own slave boy, is one of the gang’s freeborn abductees. In Rhodes they learn about the mysterious slave overlord Magnus who has everyone dancing to his tune. Captain Geminus, Bato, and Flaccus leave the ship to investigate the slave vessel Medea. What they don’t know is that they are being lured into a trap: the Medea is brimming with Magnus's thugs, while other men of his sneak aboard the Delphina and take Flavia, Nubia and Jonathan prisoner. Over the fallen Colossus, Lupus corners Magnus, who tells him that his friends have been captured and forces him to make a terrible choice: according to Magnus, Lupus’s mother has pledged to sacrifice her life to Apollo in exchange for her son’s safety; if Lupus runs to the temple, he might be able to save her, but in the meantime, the Delphina will set sail with Flavia and the others, and all the kidnapped children aboard. Lupus remembers that, despite the vow he made to find his mother, he made another vow to always stand by his friends. He runs to the local authorities and brings the local police to the Medea in time to save Geminus and the others from the trap. They then return to the Delphina in full force, rescuing Flavia and the others. As soon as they are safe, Lupus runs to the temple, but is told he is too late. However, Magnus was lying, or at least bending the truth: Lupus’s mother, Melissa, is not dead; she has become a priestess of Apollo, as she swore to do if she received word that her son was still alive, which she did a month earlier. She has already left for another temple in Greece. Lupus is saddened, but understands that his mother, like himself, made a vow which she cannot break. The day is saved, though Magnus has managed to escape Rhodes. On the pretext of continuing his tour of Asia, Flaccus swears to hunt him down and find all the children he sold as slaves, impressing Flavia. The Delphina sets sail for her next port, laden with valuable cargoes, and carrying the four now-inseparable friends.\"}\n",
            "\t {'Title': 'The Fugitive from Corinth', 'Author': 'Caroline Lawrence', 'Genre': [\"Children's literature\", 'Fiction', 'Historical novel'], 'Summary': \" Flavia and her friends have been travelling the Greek islands with other passengers aboard Lupus's ship, the Delphina, captained by Flavia's father. They have rescued kidnapped children in The Colossus of Rhodes and now they relax for a while in her tutor Aristo's home city of Corinth. But on the night before their departure, Aristo stabs Flavia's father in bed; feverish and suffering from amnesia, he falls into a deep coma. Helen witnessed Aristo's murder but has run off. Believing him guilty, Flavia, along with her friends and the sailor Atticus, sets off to catch him. They save a young beggar boy, Nikos, and he provides information and, when everyone they ask describes Aristo in two different ways, he says that Aristo's brother Dion could be trying to catch him too. They find out that Nikos is actually a girl who lives beside Aristo's house in Corinth. She loves Dion. After asking a Pythia's advice about how to catch Aristo, which Flavia believes to be useless, Lupus sneaks into the temple to ask which temple his mother is in but is surprised to find out that the Pythia is his mother. He decides to leave her to help his friends. Nubia finds Aristo, and she believes his innocence. They arrive in Athens and chase up the Acropolis in which they lose him. They meet a beggar boy called Socrates and Flavia discovers Nubia is trying to stop them from catching Aristo. Jonathan storms off, Atticus is nowhere to be seen, and the 'two Aristos' (Dion and Aristo) descend into the Cave of The Kindly Ones (Furies). Nubia and Flavia follow, and Flavia locks them in. As they are dying they forgive each other, then Jonathan, Lupus and a priest let them out. Flavia eventually forgives Dion and they go back to Corinth to find that her father is still in a coma. Flavia has already asked the Pythia how to wake him up but she does not understand and ends up crying over his body. He wakes up, cured of his amnesia, and they realise that the Pythia's prophecy had come true.\"}\n",
            "\t {'Title': 'Alexandria', 'Author': 'Lindsey Davis', 'Genre': ['Crime Fiction'], 'Summary': \" The story is set in AD 77, in Alexandria, Egypt, which was at that time part of the Roman Empire. Falco and his family travel to Egypt to see two of the seven wonders of the world, the Lighthouse of Alexandria and the Great Pyramid of Giza, but are caught up in investigation into a mysterious death, and soon several deaths. The plot revolves around the Library of Alexandria, with reference to library management practice, corruption, illegal autopsies, a man-eating crocodile, and the legendary catoblepas. For the duration of their trip, Falco and his family have chosen to stay with his mother's brother, Fulvius, and his live-in partner Cassius who host a dinner party to which Falco's family and the Chief Librarian of the Serapaeion, Theon, are invited. When Theon is found dead later in mysterious circumstances, locked in his own private Chamber at the Serapaeion, Falco, Fulvius and the others fall under suspicion by the authorities, and it is up to Falco to clear everyone's names, eventually unravelling a web of corruption, deceit and even murder at the Library of Alexandria.\"}\n"
          ]
        }
      ],
      "source": [
        "from pprint import pprint\n",
        "\n",
        "query=\"Distopian adventure\"\n",
        "results=search(query, top_k=5, index=index, model=model)\n",
        "\n",
        "print(\"\\n\")\n",
        "for result in results:\n",
        "    print('\\t',result)"
      ]
    },
    {
      "cell_type": "code",
      "execution_count": 15,
      "metadata": {
        "colab": {
          "base_uri": "https://localhost:8080/"
        },
        "id": "jv1fBcxVb-OL",
        "outputId": "07792d42-4dc0-436a-d928-58d32a369325"
      },
      "outputs": [
        {
          "name": "stdout",
          "output_type": "stream",
          "text": [
            "  adding: content/gdrive/MyDrive/Project/search/ (stored 0%)\n",
            "  adding: content/gdrive/MyDrive/Project/search/search-model/ (stored 0%)\n",
            "  adding: content/gdrive/MyDrive/Project/search/search-model/config_sentence_transformers.json (deflated 28%)\n",
            "  adding: content/gdrive/MyDrive/Project/search/search-model/config.json (deflated 44%)\n",
            "  adding: content/gdrive/MyDrive/Project/search/search-model/pytorch_model.bin (deflated 8%)\n",
            "  adding: content/gdrive/MyDrive/Project/search/search-model/tokenizer_config.json (deflated 45%)\n",
            "  adding: content/gdrive/MyDrive/Project/search/search-model/special_tokens_map.json (deflated 42%)\n",
            "  adding: content/gdrive/MyDrive/Project/search/search-model/vocab.txt (deflated 53%)\n",
            "  adding: content/gdrive/MyDrive/Project/search/search-model/tokenizer.json (deflated 71%)\n",
            "  adding: content/gdrive/MyDrive/Project/search/search-model/sentence_bert_config.json (deflated 4%)\n",
            "  adding: content/gdrive/MyDrive/Project/search/search-model/1_Pooling/ (stored 0%)\n",
            "  adding: content/gdrive/MyDrive/Project/search/search-model/1_Pooling/config.json (deflated 47%)\n",
            "  adding: content/gdrive/MyDrive/Project/search/search-model/modules.json (deflated 53%)\n",
            "  adding: content/gdrive/MyDrive/Project/search/search-model/README.md (deflated 58%)\n"
          ]
        }
      ],
      "source": [
        "!zip -r /content/gdrive/MyDrive/Project/search_model.zip /content/gdrive/MyDrive/Project/search"
      ]
    },
    {
      "cell_type": "code",
      "execution_count": null,
      "metadata": {
        "id": "qN6odAbCAqu_"
      },
      "outputs": [],
      "source": []
    }
  ],
  "metadata": {
    "colab": {
      "gpuType": "T4",
      "provenance": []
    },
    "gpuClass": "standard",
    "kernelspec": {
      "display_name": "Python 3",
      "name": "python3"
    },
    "language_info": {
      "name": "python",
      "version": "3.9.16"
    },
    "widgets": {
      "application/vnd.jupyter.widget-state+json": {
        "051be8eb15ec48fe92a868348cf5480a": {
          "model_module": "@jupyter-widgets/controls",
          "model_module_version": "1.5.0",
          "model_name": "HTMLModel",
          "state": {
            "_dom_classes": [],
            "_model_module": "@jupyter-widgets/controls",
            "_model_module_version": "1.5.0",
            "_model_name": "HTMLModel",
            "_view_count": null,
            "_view_module": "@jupyter-widgets/controls",
            "_view_module_version": "1.5.0",
            "_view_name": "HTMLView",
            "description": "",
            "description_tooltip": null,
            "layout": "IPY_MODEL_30961fff92854a96a205c10b13905588",
            "placeholder": "​",
            "style": "IPY_MODEL_fa6bfc2279de4f9798d723ccf9793cf1",
            "value": "Iteration: 100%"
          }
        },
        "0ad6c07f6b39450ba76d698c3c59b946": {
          "model_module": "@jupyter-widgets/base",
          "model_module_version": "1.2.0",
          "model_name": "LayoutModel",
          "state": {
            "_model_module": "@jupyter-widgets/base",
            "_model_module_version": "1.2.0",
            "_model_name": "LayoutModel",
            "_view_count": null,
            "_view_module": "@jupyter-widgets/base",
            "_view_module_version": "1.2.0",
            "_view_name": "LayoutView",
            "align_content": null,
            "align_items": null,
            "align_self": null,
            "border": null,
            "bottom": null,
            "display": null,
            "flex": null,
            "flex_flow": null,
            "grid_area": null,
            "grid_auto_columns": null,
            "grid_auto_flow": null,
            "grid_auto_rows": null,
            "grid_column": null,
            "grid_gap": null,
            "grid_row": null,
            "grid_template_areas": null,
            "grid_template_columns": null,
            "grid_template_rows": null,
            "height": null,
            "justify_content": null,
            "justify_items": null,
            "left": null,
            "margin": null,
            "max_height": null,
            "max_width": null,
            "min_height": null,
            "min_width": null,
            "object_fit": null,
            "object_position": null,
            "order": null,
            "overflow": null,
            "overflow_x": null,
            "overflow_y": null,
            "padding": null,
            "right": null,
            "top": null,
            "visibility": null,
            "width": null
          }
        },
        "10e810dfa3834d3dae2c6772e6064232": {
          "model_module": "@jupyter-widgets/controls",
          "model_module_version": "1.5.0",
          "model_name": "DescriptionStyleModel",
          "state": {
            "_model_module": "@jupyter-widgets/controls",
            "_model_module_version": "1.5.0",
            "_model_name": "DescriptionStyleModel",
            "_view_count": null,
            "_view_module": "@jupyter-widgets/base",
            "_view_module_version": "1.2.0",
            "_view_name": "StyleView",
            "description_width": ""
          }
        },
        "14785c6a23284e81ba04c0d89ac45041": {
          "model_module": "@jupyter-widgets/base",
          "model_module_version": "1.2.0",
          "model_name": "LayoutModel",
          "state": {
            "_model_module": "@jupyter-widgets/base",
            "_model_module_version": "1.2.0",
            "_model_name": "LayoutModel",
            "_view_count": null,
            "_view_module": "@jupyter-widgets/base",
            "_view_module_version": "1.2.0",
            "_view_name": "LayoutView",
            "align_content": null,
            "align_items": null,
            "align_self": null,
            "border": null,
            "bottom": null,
            "display": null,
            "flex": null,
            "flex_flow": null,
            "grid_area": null,
            "grid_auto_columns": null,
            "grid_auto_flow": null,
            "grid_auto_rows": null,
            "grid_column": null,
            "grid_gap": null,
            "grid_row": null,
            "grid_template_areas": null,
            "grid_template_columns": null,
            "grid_template_rows": null,
            "height": null,
            "justify_content": null,
            "justify_items": null,
            "left": null,
            "margin": null,
            "max_height": null,
            "max_width": null,
            "min_height": null,
            "min_width": null,
            "object_fit": null,
            "object_position": null,
            "order": null,
            "overflow": null,
            "overflow_x": null,
            "overflow_y": null,
            "padding": null,
            "right": null,
            "top": null,
            "visibility": null,
            "width": null
          }
        },
        "221ffa13e4ac4bd0a2853b84a332dcda": {
          "model_module": "@jupyter-widgets/base",
          "model_module_version": "1.2.0",
          "model_name": "LayoutModel",
          "state": {
            "_model_module": "@jupyter-widgets/base",
            "_model_module_version": "1.2.0",
            "_model_name": "LayoutModel",
            "_view_count": null,
            "_view_module": "@jupyter-widgets/base",
            "_view_module_version": "1.2.0",
            "_view_name": "LayoutView",
            "align_content": null,
            "align_items": null,
            "align_self": null,
            "border": null,
            "bottom": null,
            "display": null,
            "flex": null,
            "flex_flow": null,
            "grid_area": null,
            "grid_auto_columns": null,
            "grid_auto_flow": null,
            "grid_auto_rows": null,
            "grid_column": null,
            "grid_gap": null,
            "grid_row": null,
            "grid_template_areas": null,
            "grid_template_columns": null,
            "grid_template_rows": null,
            "height": null,
            "justify_content": null,
            "justify_items": null,
            "left": null,
            "margin": null,
            "max_height": null,
            "max_width": null,
            "min_height": null,
            "min_width": null,
            "object_fit": null,
            "object_position": null,
            "order": null,
            "overflow": null,
            "overflow_x": null,
            "overflow_y": null,
            "padding": null,
            "right": null,
            "top": null,
            "visibility": null,
            "width": null
          }
        },
        "30961fff92854a96a205c10b13905588": {
          "model_module": "@jupyter-widgets/base",
          "model_module_version": "1.2.0",
          "model_name": "LayoutModel",
          "state": {
            "_model_module": "@jupyter-widgets/base",
            "_model_module_version": "1.2.0",
            "_model_name": "LayoutModel",
            "_view_count": null,
            "_view_module": "@jupyter-widgets/base",
            "_view_module_version": "1.2.0",
            "_view_name": "LayoutView",
            "align_content": null,
            "align_items": null,
            "align_self": null,
            "border": null,
            "bottom": null,
            "display": null,
            "flex": null,
            "flex_flow": null,
            "grid_area": null,
            "grid_auto_columns": null,
            "grid_auto_flow": null,
            "grid_auto_rows": null,
            "grid_column": null,
            "grid_gap": null,
            "grid_row": null,
            "grid_template_areas": null,
            "grid_template_columns": null,
            "grid_template_rows": null,
            "height": null,
            "justify_content": null,
            "justify_items": null,
            "left": null,
            "margin": null,
            "max_height": null,
            "max_width": null,
            "min_height": null,
            "min_width": null,
            "object_fit": null,
            "object_position": null,
            "order": null,
            "overflow": null,
            "overflow_x": null,
            "overflow_y": null,
            "padding": null,
            "right": null,
            "top": null,
            "visibility": null,
            "width": null
          }
        },
        "43e059de4f7547fbbcd72989b1b276d3": {
          "model_module": "@jupyter-widgets/base",
          "model_module_version": "1.2.0",
          "model_name": "LayoutModel",
          "state": {
            "_model_module": "@jupyter-widgets/base",
            "_model_module_version": "1.2.0",
            "_model_name": "LayoutModel",
            "_view_count": null,
            "_view_module": "@jupyter-widgets/base",
            "_view_module_version": "1.2.0",
            "_view_name": "LayoutView",
            "align_content": null,
            "align_items": null,
            "align_self": null,
            "border": null,
            "bottom": null,
            "display": null,
            "flex": null,
            "flex_flow": null,
            "grid_area": null,
            "grid_auto_columns": null,
            "grid_auto_flow": null,
            "grid_auto_rows": null,
            "grid_column": null,
            "grid_gap": null,
            "grid_row": null,
            "grid_template_areas": null,
            "grid_template_columns": null,
            "grid_template_rows": null,
            "height": null,
            "justify_content": null,
            "justify_items": null,
            "left": null,
            "margin": null,
            "max_height": null,
            "max_width": null,
            "min_height": null,
            "min_width": null,
            "object_fit": null,
            "object_position": null,
            "order": null,
            "overflow": null,
            "overflow_x": null,
            "overflow_y": null,
            "padding": null,
            "right": null,
            "top": null,
            "visibility": null,
            "width": null
          }
        },
        "4413af31729b4bc3a1c55df7a509165e": {
          "model_module": "@jupyter-widgets/base",
          "model_module_version": "1.2.0",
          "model_name": "LayoutModel",
          "state": {
            "_model_module": "@jupyter-widgets/base",
            "_model_module_version": "1.2.0",
            "_model_name": "LayoutModel",
            "_view_count": null,
            "_view_module": "@jupyter-widgets/base",
            "_view_module_version": "1.2.0",
            "_view_name": "LayoutView",
            "align_content": null,
            "align_items": null,
            "align_self": null,
            "border": null,
            "bottom": null,
            "display": null,
            "flex": null,
            "flex_flow": null,
            "grid_area": null,
            "grid_auto_columns": null,
            "grid_auto_flow": null,
            "grid_auto_rows": null,
            "grid_column": null,
            "grid_gap": null,
            "grid_row": null,
            "grid_template_areas": null,
            "grid_template_columns": null,
            "grid_template_rows": null,
            "height": null,
            "justify_content": null,
            "justify_items": null,
            "left": null,
            "margin": null,
            "max_height": null,
            "max_width": null,
            "min_height": null,
            "min_width": null,
            "object_fit": null,
            "object_position": null,
            "order": null,
            "overflow": null,
            "overflow_x": null,
            "overflow_y": null,
            "padding": null,
            "right": null,
            "top": null,
            "visibility": null,
            "width": null
          }
        },
        "4d7d89196a4d4874b41d77d413422756": {
          "model_module": "@jupyter-widgets/base",
          "model_module_version": "1.2.0",
          "model_name": "LayoutModel",
          "state": {
            "_model_module": "@jupyter-widgets/base",
            "_model_module_version": "1.2.0",
            "_model_name": "LayoutModel",
            "_view_count": null,
            "_view_module": "@jupyter-widgets/base",
            "_view_module_version": "1.2.0",
            "_view_name": "LayoutView",
            "align_content": null,
            "align_items": null,
            "align_self": null,
            "border": null,
            "bottom": null,
            "display": null,
            "flex": null,
            "flex_flow": null,
            "grid_area": null,
            "grid_auto_columns": null,
            "grid_auto_flow": null,
            "grid_auto_rows": null,
            "grid_column": null,
            "grid_gap": null,
            "grid_row": null,
            "grid_template_areas": null,
            "grid_template_columns": null,
            "grid_template_rows": null,
            "height": null,
            "justify_content": null,
            "justify_items": null,
            "left": null,
            "margin": null,
            "max_height": null,
            "max_width": null,
            "min_height": null,
            "min_width": null,
            "object_fit": null,
            "object_position": null,
            "order": null,
            "overflow": null,
            "overflow_x": null,
            "overflow_y": null,
            "padding": null,
            "right": null,
            "top": null,
            "visibility": null,
            "width": null
          }
        },
        "5065e90366ef43c39f34f5227d6d7f11": {
          "model_module": "@jupyter-widgets/controls",
          "model_module_version": "1.5.0",
          "model_name": "DescriptionStyleModel",
          "state": {
            "_model_module": "@jupyter-widgets/controls",
            "_model_module_version": "1.5.0",
            "_model_name": "DescriptionStyleModel",
            "_view_count": null,
            "_view_module": "@jupyter-widgets/base",
            "_view_module_version": "1.2.0",
            "_view_name": "StyleView",
            "description_width": ""
          }
        },
        "515899be286b4d52896a623bcb2d81cf": {
          "model_module": "@jupyter-widgets/controls",
          "model_module_version": "1.5.0",
          "model_name": "FloatProgressModel",
          "state": {
            "_dom_classes": [],
            "_model_module": "@jupyter-widgets/controls",
            "_model_module_version": "1.5.0",
            "_model_name": "FloatProgressModel",
            "_view_count": null,
            "_view_module": "@jupyter-widgets/controls",
            "_view_module_version": "1.5.0",
            "_view_name": "ProgressView",
            "bar_style": "success",
            "description": "",
            "description_tooltip": null,
            "layout": "IPY_MODEL_afed974b2f6a4bfe9085fd9925a4e1d2",
            "max": 8022,
            "min": 0,
            "orientation": "horizontal",
            "style": "IPY_MODEL_87ffa8b9822d40c4b782d52c1ad32219",
            "value": 8022
          }
        },
        "580f94e028f44bf9a74ff064ad287f83": {
          "model_module": "@jupyter-widgets/base",
          "model_module_version": "1.2.0",
          "model_name": "LayoutModel",
          "state": {
            "_model_module": "@jupyter-widgets/base",
            "_model_module_version": "1.2.0",
            "_model_name": "LayoutModel",
            "_view_count": null,
            "_view_module": "@jupyter-widgets/base",
            "_view_module_version": "1.2.0",
            "_view_name": "LayoutView",
            "align_content": null,
            "align_items": null,
            "align_self": null,
            "border": null,
            "bottom": null,
            "display": null,
            "flex": null,
            "flex_flow": null,
            "grid_area": null,
            "grid_auto_columns": null,
            "grid_auto_flow": null,
            "grid_auto_rows": null,
            "grid_column": null,
            "grid_gap": null,
            "grid_row": null,
            "grid_template_areas": null,
            "grid_template_columns": null,
            "grid_template_rows": null,
            "height": null,
            "justify_content": null,
            "justify_items": null,
            "left": null,
            "margin": null,
            "max_height": null,
            "max_width": null,
            "min_height": null,
            "min_width": null,
            "object_fit": null,
            "object_position": null,
            "order": null,
            "overflow": null,
            "overflow_x": null,
            "overflow_y": null,
            "padding": null,
            "right": null,
            "top": null,
            "visibility": null,
            "width": null
          }
        },
        "5d0efad76f664685ae7d943b79b7dc9b": {
          "model_module": "@jupyter-widgets/controls",
          "model_module_version": "1.5.0",
          "model_name": "HTMLModel",
          "state": {
            "_dom_classes": [],
            "_model_module": "@jupyter-widgets/controls",
            "_model_module_version": "1.5.0",
            "_model_name": "HTMLModel",
            "_view_count": null,
            "_view_module": "@jupyter-widgets/controls",
            "_view_module_version": "1.5.0",
            "_view_name": "HTMLView",
            "description": "",
            "description_tooltip": null,
            "layout": "IPY_MODEL_0ad6c07f6b39450ba76d698c3c59b946",
            "placeholder": "​",
            "style": "IPY_MODEL_5065e90366ef43c39f34f5227d6d7f11",
            "value": " 8022/8022 [54:24&lt;00:00,  2.43it/s]"
          }
        },
        "5d6dca01b1a74273a7c5651329a56ba6": {
          "model_module": "@jupyter-widgets/controls",
          "model_module_version": "1.5.0",
          "model_name": "ProgressStyleModel",
          "state": {
            "_model_module": "@jupyter-widgets/controls",
            "_model_module_version": "1.5.0",
            "_model_name": "ProgressStyleModel",
            "_view_count": null,
            "_view_module": "@jupyter-widgets/base",
            "_view_module_version": "1.2.0",
            "_view_name": "StyleView",
            "bar_color": null,
            "description_width": ""
          }
        },
        "5e59c68135f040409b0505e3747da875": {
          "model_module": "@jupyter-widgets/controls",
          "model_module_version": "1.5.0",
          "model_name": "HBoxModel",
          "state": {
            "_dom_classes": [],
            "_model_module": "@jupyter-widgets/controls",
            "_model_module_version": "1.5.0",
            "_model_name": "HBoxModel",
            "_view_count": null,
            "_view_module": "@jupyter-widgets/controls",
            "_view_module_version": "1.5.0",
            "_view_name": "HBoxView",
            "box_style": "",
            "children": [
              "IPY_MODEL_5ed7eae7f34841e8befab5a21fb4f289",
              "IPY_MODEL_515899be286b4d52896a623bcb2d81cf",
              "IPY_MODEL_ea3563cb52d9477792309f8a54783ff6"
            ],
            "layout": "IPY_MODEL_db797e4762de43c6b576786821a7f58c"
          }
        },
        "5e5c1f32632446ae91fd81b53ce5bcb5": {
          "model_module": "@jupyter-widgets/controls",
          "model_module_version": "1.5.0",
          "model_name": "FloatProgressModel",
          "state": {
            "_dom_classes": [],
            "_model_module": "@jupyter-widgets/controls",
            "_model_module_version": "1.5.0",
            "_model_name": "FloatProgressModel",
            "_view_count": null,
            "_view_module": "@jupyter-widgets/controls",
            "_view_module_version": "1.5.0",
            "_view_name": "ProgressView",
            "bar_style": "success",
            "description": "",
            "description_tooltip": null,
            "layout": "IPY_MODEL_221ffa13e4ac4bd0a2853b84a332dcda",
            "max": 8022,
            "min": 0,
            "orientation": "horizontal",
            "style": "IPY_MODEL_86665459eddb4406bc267a31b2301832",
            "value": 8022
          }
        },
        "5ed7eae7f34841e8befab5a21fb4f289": {
          "model_module": "@jupyter-widgets/controls",
          "model_module_version": "1.5.0",
          "model_name": "HTMLModel",
          "state": {
            "_dom_classes": [],
            "_model_module": "@jupyter-widgets/controls",
            "_model_module_version": "1.5.0",
            "_model_name": "HTMLModel",
            "_view_count": null,
            "_view_module": "@jupyter-widgets/controls",
            "_view_module_version": "1.5.0",
            "_view_name": "HTMLView",
            "description": "",
            "description_tooltip": null,
            "layout": "IPY_MODEL_d187281c5bd845d4a51f2777d7fd648c",
            "placeholder": "​",
            "style": "IPY_MODEL_61224b6624a64bcfa0d1d174192f74bc",
            "value": "Iteration: 100%"
          }
        },
        "61224b6624a64bcfa0d1d174192f74bc": {
          "model_module": "@jupyter-widgets/controls",
          "model_module_version": "1.5.0",
          "model_name": "DescriptionStyleModel",
          "state": {
            "_model_module": "@jupyter-widgets/controls",
            "_model_module_version": "1.5.0",
            "_model_name": "DescriptionStyleModel",
            "_view_count": null,
            "_view_module": "@jupyter-widgets/base",
            "_view_module_version": "1.2.0",
            "_view_name": "StyleView",
            "description_width": ""
          }
        },
        "649e9e86cb7246a2b82d25b5eb6f1f70": {
          "model_module": "@jupyter-widgets/base",
          "model_module_version": "1.2.0",
          "model_name": "LayoutModel",
          "state": {
            "_model_module": "@jupyter-widgets/base",
            "_model_module_version": "1.2.0",
            "_model_name": "LayoutModel",
            "_view_count": null,
            "_view_module": "@jupyter-widgets/base",
            "_view_module_version": "1.2.0",
            "_view_name": "LayoutView",
            "align_content": null,
            "align_items": null,
            "align_self": null,
            "border": null,
            "bottom": null,
            "display": null,
            "flex": null,
            "flex_flow": null,
            "grid_area": null,
            "grid_auto_columns": null,
            "grid_auto_flow": null,
            "grid_auto_rows": null,
            "grid_column": null,
            "grid_gap": null,
            "grid_row": null,
            "grid_template_areas": null,
            "grid_template_columns": null,
            "grid_template_rows": null,
            "height": null,
            "justify_content": null,
            "justify_items": null,
            "left": null,
            "margin": null,
            "max_height": null,
            "max_width": null,
            "min_height": null,
            "min_width": null,
            "object_fit": null,
            "object_position": null,
            "order": null,
            "overflow": null,
            "overflow_x": null,
            "overflow_y": null,
            "padding": null,
            "right": null,
            "top": null,
            "visibility": null,
            "width": null
          }
        },
        "67586bc618234b29ab22463d13b90b53": {
          "model_module": "@jupyter-widgets/base",
          "model_module_version": "1.2.0",
          "model_name": "LayoutModel",
          "state": {
            "_model_module": "@jupyter-widgets/base",
            "_model_module_version": "1.2.0",
            "_model_name": "LayoutModel",
            "_view_count": null,
            "_view_module": "@jupyter-widgets/base",
            "_view_module_version": "1.2.0",
            "_view_name": "LayoutView",
            "align_content": null,
            "align_items": null,
            "align_self": null,
            "border": null,
            "bottom": null,
            "display": null,
            "flex": null,
            "flex_flow": null,
            "grid_area": null,
            "grid_auto_columns": null,
            "grid_auto_flow": null,
            "grid_auto_rows": null,
            "grid_column": null,
            "grid_gap": null,
            "grid_row": null,
            "grid_template_areas": null,
            "grid_template_columns": null,
            "grid_template_rows": null,
            "height": null,
            "justify_content": null,
            "justify_items": null,
            "left": null,
            "margin": null,
            "max_height": null,
            "max_width": null,
            "min_height": null,
            "min_width": null,
            "object_fit": null,
            "object_position": null,
            "order": null,
            "overflow": null,
            "overflow_x": null,
            "overflow_y": null,
            "padding": null,
            "right": null,
            "top": null,
            "visibility": null,
            "width": null
          }
        },
        "7dcb1776dbfe4a7787edda1f45ea495d": {
          "model_module": "@jupyter-widgets/controls",
          "model_module_version": "1.5.0",
          "model_name": "HBoxModel",
          "state": {
            "_dom_classes": [],
            "_model_module": "@jupyter-widgets/controls",
            "_model_module_version": "1.5.0",
            "_model_name": "HBoxModel",
            "_view_count": null,
            "_view_module": "@jupyter-widgets/controls",
            "_view_module_version": "1.5.0",
            "_view_name": "HBoxView",
            "box_style": "",
            "children": [
              "IPY_MODEL_c14031c669fe46af945cb2d53efc51d4",
              "IPY_MODEL_5e5c1f32632446ae91fd81b53ce5bcb5",
              "IPY_MODEL_d31ad35c42cb439895e7f3fb2c0424b2"
            ],
            "layout": "IPY_MODEL_4413af31729b4bc3a1c55df7a509165e"
          }
        },
        "86665459eddb4406bc267a31b2301832": {
          "model_module": "@jupyter-widgets/controls",
          "model_module_version": "1.5.0",
          "model_name": "ProgressStyleModel",
          "state": {
            "_model_module": "@jupyter-widgets/controls",
            "_model_module_version": "1.5.0",
            "_model_name": "ProgressStyleModel",
            "_view_count": null,
            "_view_module": "@jupyter-widgets/base",
            "_view_module_version": "1.2.0",
            "_view_name": "StyleView",
            "bar_color": null,
            "description_width": ""
          }
        },
        "87ffa8b9822d40c4b782d52c1ad32219": {
          "model_module": "@jupyter-widgets/controls",
          "model_module_version": "1.5.0",
          "model_name": "ProgressStyleModel",
          "state": {
            "_model_module": "@jupyter-widgets/controls",
            "_model_module_version": "1.5.0",
            "_model_name": "ProgressStyleModel",
            "_view_count": null,
            "_view_module": "@jupyter-widgets/base",
            "_view_module_version": "1.2.0",
            "_view_name": "StyleView",
            "bar_color": null,
            "description_width": ""
          }
        },
        "8827904ff3de4b2abd361bb386b3312a": {
          "model_module": "@jupyter-widgets/controls",
          "model_module_version": "1.5.0",
          "model_name": "DescriptionStyleModel",
          "state": {
            "_model_module": "@jupyter-widgets/controls",
            "_model_module_version": "1.5.0",
            "_model_name": "DescriptionStyleModel",
            "_view_count": null,
            "_view_module": "@jupyter-widgets/base",
            "_view_module_version": "1.2.0",
            "_view_name": "StyleView",
            "description_width": ""
          }
        },
        "8bf8e78c9767406185f17d93140073d0": {
          "model_module": "@jupyter-widgets/base",
          "model_module_version": "1.2.0",
          "model_name": "LayoutModel",
          "state": {
            "_model_module": "@jupyter-widgets/base",
            "_model_module_version": "1.2.0",
            "_model_name": "LayoutModel",
            "_view_count": null,
            "_view_module": "@jupyter-widgets/base",
            "_view_module_version": "1.2.0",
            "_view_name": "LayoutView",
            "align_content": null,
            "align_items": null,
            "align_self": null,
            "border": null,
            "bottom": null,
            "display": null,
            "flex": null,
            "flex_flow": null,
            "grid_area": null,
            "grid_auto_columns": null,
            "grid_auto_flow": null,
            "grid_auto_rows": null,
            "grid_column": null,
            "grid_gap": null,
            "grid_row": null,
            "grid_template_areas": null,
            "grid_template_columns": null,
            "grid_template_rows": null,
            "height": null,
            "justify_content": null,
            "justify_items": null,
            "left": null,
            "margin": null,
            "max_height": null,
            "max_width": null,
            "min_height": null,
            "min_width": null,
            "object_fit": null,
            "object_position": null,
            "order": null,
            "overflow": null,
            "overflow_x": null,
            "overflow_y": null,
            "padding": null,
            "right": null,
            "top": null,
            "visibility": null,
            "width": null
          }
        },
        "8c25636e4e51467999e62792b1d39cc7": {
          "model_module": "@jupyter-widgets/controls",
          "model_module_version": "1.5.0",
          "model_name": "ProgressStyleModel",
          "state": {
            "_model_module": "@jupyter-widgets/controls",
            "_model_module_version": "1.5.0",
            "_model_name": "ProgressStyleModel",
            "_view_count": null,
            "_view_module": "@jupyter-widgets/base",
            "_view_module_version": "1.2.0",
            "_view_name": "StyleView",
            "bar_color": null,
            "description_width": ""
          }
        },
        "afed974b2f6a4bfe9085fd9925a4e1d2": {
          "model_module": "@jupyter-widgets/base",
          "model_module_version": "1.2.0",
          "model_name": "LayoutModel",
          "state": {
            "_model_module": "@jupyter-widgets/base",
            "_model_module_version": "1.2.0",
            "_model_name": "LayoutModel",
            "_view_count": null,
            "_view_module": "@jupyter-widgets/base",
            "_view_module_version": "1.2.0",
            "_view_name": "LayoutView",
            "align_content": null,
            "align_items": null,
            "align_self": null,
            "border": null,
            "bottom": null,
            "display": null,
            "flex": null,
            "flex_flow": null,
            "grid_area": null,
            "grid_auto_columns": null,
            "grid_auto_flow": null,
            "grid_auto_rows": null,
            "grid_column": null,
            "grid_gap": null,
            "grid_row": null,
            "grid_template_areas": null,
            "grid_template_columns": null,
            "grid_template_rows": null,
            "height": null,
            "justify_content": null,
            "justify_items": null,
            "left": null,
            "margin": null,
            "max_height": null,
            "max_width": null,
            "min_height": null,
            "min_width": null,
            "object_fit": null,
            "object_position": null,
            "order": null,
            "overflow": null,
            "overflow_x": null,
            "overflow_y": null,
            "padding": null,
            "right": null,
            "top": null,
            "visibility": null,
            "width": null
          }
        },
        "bc34fd0dabd64c4a830321a46d578b5d": {
          "model_module": "@jupyter-widgets/controls",
          "model_module_version": "1.5.0",
          "model_name": "HBoxModel",
          "state": {
            "_dom_classes": [],
            "_model_module": "@jupyter-widgets/controls",
            "_model_module_version": "1.5.0",
            "_model_name": "HBoxModel",
            "_view_count": null,
            "_view_module": "@jupyter-widgets/controls",
            "_view_module_version": "1.5.0",
            "_view_name": "HBoxView",
            "box_style": "",
            "children": [
              "IPY_MODEL_051be8eb15ec48fe92a868348cf5480a",
              "IPY_MODEL_de5c4fcbf0c34d939d4e09797b7ea516",
              "IPY_MODEL_5d0efad76f664685ae7d943b79b7dc9b"
            ],
            "layout": "IPY_MODEL_8bf8e78c9767406185f17d93140073d0"
          }
        },
        "c14031c669fe46af945cb2d53efc51d4": {
          "model_module": "@jupyter-widgets/controls",
          "model_module_version": "1.5.0",
          "model_name": "HTMLModel",
          "state": {
            "_dom_classes": [],
            "_model_module": "@jupyter-widgets/controls",
            "_model_module_version": "1.5.0",
            "_model_name": "HTMLModel",
            "_view_count": null,
            "_view_module": "@jupyter-widgets/controls",
            "_view_module_version": "1.5.0",
            "_view_name": "HTMLView",
            "description": "",
            "description_tooltip": null,
            "layout": "IPY_MODEL_580f94e028f44bf9a74ff064ad287f83",
            "placeholder": "​",
            "style": "IPY_MODEL_10e810dfa3834d3dae2c6772e6064232",
            "value": "Iteration: 100%"
          }
        },
        "cc93f7f7938c45c6b76f9dead3683bb4": {
          "model_module": "@jupyter-widgets/controls",
          "model_module_version": "1.5.0",
          "model_name": "HTMLModel",
          "state": {
            "_dom_classes": [],
            "_model_module": "@jupyter-widgets/controls",
            "_model_module_version": "1.5.0",
            "_model_name": "HTMLModel",
            "_view_count": null,
            "_view_module": "@jupyter-widgets/controls",
            "_view_module_version": "1.5.0",
            "_view_name": "HTMLView",
            "description": "",
            "description_tooltip": null,
            "layout": "IPY_MODEL_4d7d89196a4d4874b41d77d413422756",
            "placeholder": "​",
            "style": "IPY_MODEL_8827904ff3de4b2abd361bb386b3312a",
            "value": "Epoch: 100%"
          }
        },
        "d068135ea6fb41ed8afc27dd17b48d82": {
          "model_module": "@jupyter-widgets/controls",
          "model_module_version": "1.5.0",
          "model_name": "HBoxModel",
          "state": {
            "_dom_classes": [],
            "_model_module": "@jupyter-widgets/controls",
            "_model_module_version": "1.5.0",
            "_model_name": "HBoxModel",
            "_view_count": null,
            "_view_module": "@jupyter-widgets/controls",
            "_view_module_version": "1.5.0",
            "_view_name": "HBoxView",
            "box_style": "",
            "children": [
              "IPY_MODEL_cc93f7f7938c45c6b76f9dead3683bb4",
              "IPY_MODEL_ee98ff7c37974d24bf1d175c0009a74b",
              "IPY_MODEL_d7514009a8e74431a33eca80a64830f4"
            ],
            "layout": "IPY_MODEL_67586bc618234b29ab22463d13b90b53"
          }
        },
        "d187281c5bd845d4a51f2777d7fd648c": {
          "model_module": "@jupyter-widgets/base",
          "model_module_version": "1.2.0",
          "model_name": "LayoutModel",
          "state": {
            "_model_module": "@jupyter-widgets/base",
            "_model_module_version": "1.2.0",
            "_model_name": "LayoutModel",
            "_view_count": null,
            "_view_module": "@jupyter-widgets/base",
            "_view_module_version": "1.2.0",
            "_view_name": "LayoutView",
            "align_content": null,
            "align_items": null,
            "align_self": null,
            "border": null,
            "bottom": null,
            "display": null,
            "flex": null,
            "flex_flow": null,
            "grid_area": null,
            "grid_auto_columns": null,
            "grid_auto_flow": null,
            "grid_auto_rows": null,
            "grid_column": null,
            "grid_gap": null,
            "grid_row": null,
            "grid_template_areas": null,
            "grid_template_columns": null,
            "grid_template_rows": null,
            "height": null,
            "justify_content": null,
            "justify_items": null,
            "left": null,
            "margin": null,
            "max_height": null,
            "max_width": null,
            "min_height": null,
            "min_width": null,
            "object_fit": null,
            "object_position": null,
            "order": null,
            "overflow": null,
            "overflow_x": null,
            "overflow_y": null,
            "padding": null,
            "right": null,
            "top": null,
            "visibility": null,
            "width": null
          }
        },
        "d31ad35c42cb439895e7f3fb2c0424b2": {
          "model_module": "@jupyter-widgets/controls",
          "model_module_version": "1.5.0",
          "model_name": "HTMLModel",
          "state": {
            "_dom_classes": [],
            "_model_module": "@jupyter-widgets/controls",
            "_model_module_version": "1.5.0",
            "_model_name": "HTMLModel",
            "_view_count": null,
            "_view_module": "@jupyter-widgets/controls",
            "_view_module_version": "1.5.0",
            "_view_name": "HTMLView",
            "description": "",
            "description_tooltip": null,
            "layout": "IPY_MODEL_f25fad46cce941c2a4dcb04ab032b264",
            "placeholder": "​",
            "style": "IPY_MODEL_d806169711dc4359b8e95f88a3708c9d",
            "value": " 8022/8022 [54:17&lt;00:00,  2.43it/s]"
          }
        },
        "d5e9cb5c794843129ac6a905f22f1799": {
          "model_module": "@jupyter-widgets/controls",
          "model_module_version": "1.5.0",
          "model_name": "DescriptionStyleModel",
          "state": {
            "_model_module": "@jupyter-widgets/controls",
            "_model_module_version": "1.5.0",
            "_model_name": "DescriptionStyleModel",
            "_view_count": null,
            "_view_module": "@jupyter-widgets/base",
            "_view_module_version": "1.2.0",
            "_view_name": "StyleView",
            "description_width": ""
          }
        },
        "d7514009a8e74431a33eca80a64830f4": {
          "model_module": "@jupyter-widgets/controls",
          "model_module_version": "1.5.0",
          "model_name": "HTMLModel",
          "state": {
            "_dom_classes": [],
            "_model_module": "@jupyter-widgets/controls",
            "_model_module_version": "1.5.0",
            "_model_name": "HTMLModel",
            "_view_count": null,
            "_view_module": "@jupyter-widgets/controls",
            "_view_module_version": "1.5.0",
            "_view_name": "HTMLView",
            "description": "",
            "description_tooltip": null,
            "layout": "IPY_MODEL_43e059de4f7547fbbcd72989b1b276d3",
            "placeholder": "​",
            "style": "IPY_MODEL_ea5d448dc1964186ac73728ed8a3eaab",
            "value": " 3/3 [2:42:57&lt;00:00, 3259.98s/it]"
          }
        },
        "d806169711dc4359b8e95f88a3708c9d": {
          "model_module": "@jupyter-widgets/controls",
          "model_module_version": "1.5.0",
          "model_name": "DescriptionStyleModel",
          "state": {
            "_model_module": "@jupyter-widgets/controls",
            "_model_module_version": "1.5.0",
            "_model_name": "DescriptionStyleModel",
            "_view_count": null,
            "_view_module": "@jupyter-widgets/base",
            "_view_module_version": "1.2.0",
            "_view_name": "StyleView",
            "description_width": ""
          }
        },
        "db797e4762de43c6b576786821a7f58c": {
          "model_module": "@jupyter-widgets/base",
          "model_module_version": "1.2.0",
          "model_name": "LayoutModel",
          "state": {
            "_model_module": "@jupyter-widgets/base",
            "_model_module_version": "1.2.0",
            "_model_name": "LayoutModel",
            "_view_count": null,
            "_view_module": "@jupyter-widgets/base",
            "_view_module_version": "1.2.0",
            "_view_name": "LayoutView",
            "align_content": null,
            "align_items": null,
            "align_self": null,
            "border": null,
            "bottom": null,
            "display": null,
            "flex": null,
            "flex_flow": null,
            "grid_area": null,
            "grid_auto_columns": null,
            "grid_auto_flow": null,
            "grid_auto_rows": null,
            "grid_column": null,
            "grid_gap": null,
            "grid_row": null,
            "grid_template_areas": null,
            "grid_template_columns": null,
            "grid_template_rows": null,
            "height": null,
            "justify_content": null,
            "justify_items": null,
            "left": null,
            "margin": null,
            "max_height": null,
            "max_width": null,
            "min_height": null,
            "min_width": null,
            "object_fit": null,
            "object_position": null,
            "order": null,
            "overflow": null,
            "overflow_x": null,
            "overflow_y": null,
            "padding": null,
            "right": null,
            "top": null,
            "visibility": null,
            "width": null
          }
        },
        "de5c4fcbf0c34d939d4e09797b7ea516": {
          "model_module": "@jupyter-widgets/controls",
          "model_module_version": "1.5.0",
          "model_name": "FloatProgressModel",
          "state": {
            "_dom_classes": [],
            "_model_module": "@jupyter-widgets/controls",
            "_model_module_version": "1.5.0",
            "_model_name": "FloatProgressModel",
            "_view_count": null,
            "_view_module": "@jupyter-widgets/controls",
            "_view_module_version": "1.5.0",
            "_view_name": "ProgressView",
            "bar_style": "success",
            "description": "",
            "description_tooltip": null,
            "layout": "IPY_MODEL_fcc4b3d8cb9e4669839e49135330b1cb",
            "max": 8022,
            "min": 0,
            "orientation": "horizontal",
            "style": "IPY_MODEL_8c25636e4e51467999e62792b1d39cc7",
            "value": 8022
          }
        },
        "ea3563cb52d9477792309f8a54783ff6": {
          "model_module": "@jupyter-widgets/controls",
          "model_module_version": "1.5.0",
          "model_name": "HTMLModel",
          "state": {
            "_dom_classes": [],
            "_model_module": "@jupyter-widgets/controls",
            "_model_module_version": "1.5.0",
            "_model_name": "HTMLModel",
            "_view_count": null,
            "_view_module": "@jupyter-widgets/controls",
            "_view_module_version": "1.5.0",
            "_view_name": "HTMLView",
            "description": "",
            "description_tooltip": null,
            "layout": "IPY_MODEL_14785c6a23284e81ba04c0d89ac45041",
            "placeholder": "​",
            "style": "IPY_MODEL_d5e9cb5c794843129ac6a905f22f1799",
            "value": " 8022/8022 [54:15&lt;00:00,  2.46it/s]"
          }
        },
        "ea5d448dc1964186ac73728ed8a3eaab": {
          "model_module": "@jupyter-widgets/controls",
          "model_module_version": "1.5.0",
          "model_name": "DescriptionStyleModel",
          "state": {
            "_model_module": "@jupyter-widgets/controls",
            "_model_module_version": "1.5.0",
            "_model_name": "DescriptionStyleModel",
            "_view_count": null,
            "_view_module": "@jupyter-widgets/base",
            "_view_module_version": "1.2.0",
            "_view_name": "StyleView",
            "description_width": ""
          }
        },
        "ee98ff7c37974d24bf1d175c0009a74b": {
          "model_module": "@jupyter-widgets/controls",
          "model_module_version": "1.5.0",
          "model_name": "FloatProgressModel",
          "state": {
            "_dom_classes": [],
            "_model_module": "@jupyter-widgets/controls",
            "_model_module_version": "1.5.0",
            "_model_name": "FloatProgressModel",
            "_view_count": null,
            "_view_module": "@jupyter-widgets/controls",
            "_view_module_version": "1.5.0",
            "_view_name": "ProgressView",
            "bar_style": "success",
            "description": "",
            "description_tooltip": null,
            "layout": "IPY_MODEL_649e9e86cb7246a2b82d25b5eb6f1f70",
            "max": 3,
            "min": 0,
            "orientation": "horizontal",
            "style": "IPY_MODEL_5d6dca01b1a74273a7c5651329a56ba6",
            "value": 3
          }
        },
        "f25fad46cce941c2a4dcb04ab032b264": {
          "model_module": "@jupyter-widgets/base",
          "model_module_version": "1.2.0",
          "model_name": "LayoutModel",
          "state": {
            "_model_module": "@jupyter-widgets/base",
            "_model_module_version": "1.2.0",
            "_model_name": "LayoutModel",
            "_view_count": null,
            "_view_module": "@jupyter-widgets/base",
            "_view_module_version": "1.2.0",
            "_view_name": "LayoutView",
            "align_content": null,
            "align_items": null,
            "align_self": null,
            "border": null,
            "bottom": null,
            "display": null,
            "flex": null,
            "flex_flow": null,
            "grid_area": null,
            "grid_auto_columns": null,
            "grid_auto_flow": null,
            "grid_auto_rows": null,
            "grid_column": null,
            "grid_gap": null,
            "grid_row": null,
            "grid_template_areas": null,
            "grid_template_columns": null,
            "grid_template_rows": null,
            "height": null,
            "justify_content": null,
            "justify_items": null,
            "left": null,
            "margin": null,
            "max_height": null,
            "max_width": null,
            "min_height": null,
            "min_width": null,
            "object_fit": null,
            "object_position": null,
            "order": null,
            "overflow": null,
            "overflow_x": null,
            "overflow_y": null,
            "padding": null,
            "right": null,
            "top": null,
            "visibility": null,
            "width": null
          }
        },
        "fa6bfc2279de4f9798d723ccf9793cf1": {
          "model_module": "@jupyter-widgets/controls",
          "model_module_version": "1.5.0",
          "model_name": "DescriptionStyleModel",
          "state": {
            "_model_module": "@jupyter-widgets/controls",
            "_model_module_version": "1.5.0",
            "_model_name": "DescriptionStyleModel",
            "_view_count": null,
            "_view_module": "@jupyter-widgets/base",
            "_view_module_version": "1.2.0",
            "_view_name": "StyleView",
            "description_width": ""
          }
        },
        "fcc4b3d8cb9e4669839e49135330b1cb": {
          "model_module": "@jupyter-widgets/base",
          "model_module_version": "1.2.0",
          "model_name": "LayoutModel",
          "state": {
            "_model_module": "@jupyter-widgets/base",
            "_model_module_version": "1.2.0",
            "_model_name": "LayoutModel",
            "_view_count": null,
            "_view_module": "@jupyter-widgets/base",
            "_view_module_version": "1.2.0",
            "_view_name": "LayoutView",
            "align_content": null,
            "align_items": null,
            "align_self": null,
            "border": null,
            "bottom": null,
            "display": null,
            "flex": null,
            "flex_flow": null,
            "grid_area": null,
            "grid_auto_columns": null,
            "grid_auto_flow": null,
            "grid_auto_rows": null,
            "grid_column": null,
            "grid_gap": null,
            "grid_row": null,
            "grid_template_areas": null,
            "grid_template_columns": null,
            "grid_template_rows": null,
            "height": null,
            "justify_content": null,
            "justify_items": null,
            "left": null,
            "margin": null,
            "max_height": null,
            "max_width": null,
            "min_height": null,
            "min_width": null,
            "object_fit": null,
            "object_position": null,
            "order": null,
            "overflow": null,
            "overflow_x": null,
            "overflow_y": null,
            "padding": null,
            "right": null,
            "top": null,
            "visibility": null,
            "width": null
          }
        }
      }
    }
  },
  "nbformat": 4,
  "nbformat_minor": 0
}
