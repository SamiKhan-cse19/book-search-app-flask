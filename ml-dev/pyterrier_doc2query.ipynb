{
 "cells": [
  {
   "cell_type": "code",
   "execution_count": 2,
   "metadata": {},
   "outputs": [
    {
     "name": "stderr",
     "output_type": "stream",
     "text": [
      "PyTerrier 0.9.2 has loaded Terrier 5.7 (built by craigm on 2022-11-10 18:30) and terrier-helper 0.0.7\n",
      "\n",
      "No etc/terrier.properties, using terrier.default.properties for bootstrap configuration.\n"
     ]
    }
   ],
   "source": [
    "import pyterrier as pt\n",
    "pt.init()"
   ]
  },
  {
   "cell_type": "code",
   "execution_count": 4,
   "metadata": {},
   "outputs": [
    {
     "name": "stderr",
     "output_type": "stream",
     "text": [
      "/tmp/ipykernel_5979/2270366581.py:3: FutureWarning: .transform() should be passed a dataframe. Use .search() to execute a single query.\n",
      "  results = searcher.transform(\"book about camping\")\n"
     ]
    },
    {
     "data": {
      "text/html": [
       "<div>\n",
       "<style scoped>\n",
       "    .dataframe tbody tr th:only-of-type {\n",
       "        vertical-align: middle;\n",
       "    }\n",
       "\n",
       "    .dataframe tbody tr th {\n",
       "        vertical-align: top;\n",
       "    }\n",
       "\n",
       "    .dataframe thead th {\n",
       "        text-align: right;\n",
       "    }\n",
       "</style>\n",
       "<table border=\"1\" class=\"dataframe\">\n",
       "  <thead>\n",
       "    <tr style=\"text-align: right;\">\n",
       "      <th></th>\n",
       "      <th>qid</th>\n",
       "      <th>docno</th>\n",
       "    </tr>\n",
       "  </thead>\n",
       "  <tbody>\n",
       "    <tr>\n",
       "      <th>0</th>\n",
       "      <td>1</td>\n",
       "      <td>11686</td>\n",
       "    </tr>\n",
       "    <tr>\n",
       "      <th>1</th>\n",
       "      <td>1</td>\n",
       "      <td>11196</td>\n",
       "    </tr>\n",
       "    <tr>\n",
       "      <th>2</th>\n",
       "      <td>1</td>\n",
       "      <td>3102</td>\n",
       "    </tr>\n",
       "    <tr>\n",
       "      <th>3</th>\n",
       "      <td>1</td>\n",
       "      <td>10663</td>\n",
       "    </tr>\n",
       "    <tr>\n",
       "      <th>4</th>\n",
       "      <td>1</td>\n",
       "      <td>15537</td>\n",
       "    </tr>\n",
       "  </tbody>\n",
       "</table>\n",
       "</div>"
      ],
      "text/plain": [
       "  qid  docno\n",
       "0   1  11686\n",
       "1   1  11196\n",
       "2   1   3102\n",
       "3   1  10663\n",
       "4   1  15537"
      ]
     },
     "execution_count": 4,
     "metadata": {},
     "output_type": "execute_result"
    }
   ],
   "source": [
    "index = pt.IndexFactory.of('./doc2query_index')\n",
    "searcher = pt.BatchRetrieve(index)\n",
    "results = searcher.transform(\"book about camping\")\n",
    "results[['qid','docno']].head()"
   ]
  },
  {
   "cell_type": "code",
   "execution_count": 7,
   "metadata": {},
   "outputs": [
    {
     "name": "stderr",
     "output_type": "stream",
     "text": [
      "16559it [00:00, 19881.58it/s]\n",
      "100%|██████████| 16559/16559 [00:00<00:00, 522619.21it/s]\n"
     ]
    }
   ],
   "source": [
    "import pandas as pd\n",
    "import csv\n",
    "import json\n",
    "import re\n",
    "from tqdm import tqdm\n",
    "\n",
    "def load_data():\n",
    "  data = []\n",
    "  with open(\"booksummaries.txt\", 'r') as f:\n",
    "    reader = csv.reader(f, dialect='excel-tab')\n",
    "    for row in tqdm(reader):\n",
    "      data.append(row)\n",
    "\n",
    "  book_index = []\n",
    "  book_id = []\n",
    "  book_author = []\n",
    "  book_name = []\n",
    "  summary = []\n",
    "  genre = []\n",
    "  a = 1\n",
    "  for i in tqdm(data):\n",
    "      book_index.append(a)\n",
    "      a = a+1\n",
    "      book_id.append(i[0])\n",
    "      book_name.append(i[2])\n",
    "      book_author.append(i[3])\n",
    "      genre.append(i[5])\n",
    "      summary.append(i[6])\n",
    "  df = pd.DataFrame({'Index': book_index, 'ID': book_id, 'BookTitle': book_name, 'Author': book_author,\n",
    "                        'Genre': genre, 'Summary': summary})\n",
    "  def clean_data(df):\n",
    "    df.isna().sum()\n",
    "    df = df.drop(df[df['Genre'] == ''].index)\n",
    "    df = df.drop(df[df['Summary'] == ''].index)\n",
    "    genres_cleaned = []\n",
    "    for i in df['Genre']:\n",
    "        genres_cleaned.append(list(json.loads(i).values()))\n",
    "    df['Genre'] = genres_cleaned\n",
    "    \n",
    "    def clean_summary(text):\n",
    "      text = re.sub(\"\\'\", \"\", text)\n",
    "      text = re.sub(\"[^a-zA-Z]\",\" \",text)\n",
    "      text = ' '.join(text.split())\n",
    "      text = text.lower()\n",
    "      return text\n",
    "    df['clean_summary'] = df['Summary'].apply(lambda x: clean_summary(x))\n",
    "    return df\n",
    "  df = clean_data(df)\n",
    "  return df\n",
    "\n",
    "df = load_data()"
   ]
  },
  {
   "cell_type": "code",
   "execution_count": 9,
   "metadata": {},
   "outputs": [
    {
     "name": "stdout",
     "output_type": "stream",
     "text": [
      "<class 'pandas.core.frame.DataFrame'>\n",
      "Int64Index: 12841 entries, 0 to 16558\n",
      "Data columns (total 7 columns):\n",
      " #   Column         Non-Null Count  Dtype \n",
      "---  ------         --------------  ----- \n",
      " 0   Index          12841 non-null  int64 \n",
      " 1   ID             12841 non-null  object\n",
      " 2   BookTitle      12841 non-null  object\n",
      " 3   Author         12841 non-null  object\n",
      " 4   Genre          12841 non-null  object\n",
      " 5   Summary        12841 non-null  object\n",
      " 6   clean_summary  12841 non-null  object\n",
      "dtypes: int64(1), object(6)\n",
      "memory usage: 802.6+ KB\n"
     ]
    }
   ],
   "source": [
    "df.info()"
   ]
  },
  {
   "cell_type": "code",
   "execution_count": 21,
   "metadata": {},
   "outputs": [
    {
     "data": {
      "text/html": [
       "<div>\n",
       "<style scoped>\n",
       "    .dataframe tbody tr th:only-of-type {\n",
       "        vertical-align: middle;\n",
       "    }\n",
       "\n",
       "    .dataframe tbody tr th {\n",
       "        vertical-align: top;\n",
       "    }\n",
       "\n",
       "    .dataframe thead th {\n",
       "        text-align: right;\n",
       "    }\n",
       "</style>\n",
       "<table border=\"1\" class=\"dataframe\">\n",
       "  <thead>\n",
       "    <tr style=\"text-align: right;\">\n",
       "      <th></th>\n",
       "      <th>Index</th>\n",
       "      <th>ID</th>\n",
       "      <th>BookTitle</th>\n",
       "      <th>Author</th>\n",
       "      <th>Genre</th>\n",
       "      <th>Summary</th>\n",
       "      <th>clean_summary</th>\n",
       "    </tr>\n",
       "  </thead>\n",
       "  <tbody>\n",
       "    <tr>\n",
       "      <th>2</th>\n",
       "      <td>3</td>\n",
       "      <td>986</td>\n",
       "      <td>The Plague</td>\n",
       "      <td>Albert Camus</td>\n",
       "      <td>[Existentialism, Fiction, Absurdist fiction, N...</td>\n",
       "      <td>The text of The Plague is divided into five p...</td>\n",
       "      <td>the text of the plague is divided into five pa...</td>\n",
       "    </tr>\n",
       "    <tr>\n",
       "      <th>35</th>\n",
       "      <td>36</td>\n",
       "      <td>10951</td>\n",
       "      <td>Fahrenheit 451</td>\n",
       "      <td>Ray Bradbury</td>\n",
       "      <td>[Science Fiction, Children's literature, Specu...</td>\n",
       "      <td>On a rainy night while returning from his job...</td>\n",
       "      <td>on a rainy night while returning from his job ...</td>\n",
       "    </tr>\n",
       "    <tr>\n",
       "      <th>57</th>\n",
       "      <td>58</td>\n",
       "      <td>22113</td>\n",
       "      <td>No Logo</td>\n",
       "      <td>Naomi Klein</td>\n",
       "      <td>[Business, Non-fiction, Economics, Anthropolog...</td>\n",
       "      <td>The book comprises four sections: \"No Space\",...</td>\n",
       "      <td>the book comprises four sections no space no c...</td>\n",
       "    </tr>\n",
       "    <tr>\n",
       "      <th>72</th>\n",
       "      <td>73</td>\n",
       "      <td>26476</td>\n",
       "      <td>Rendezvous with Rama</td>\n",
       "      <td>Arthur C. Clarke</td>\n",
       "      <td>[Hard science fiction, Science Fiction, Specul...</td>\n",
       "      <td>After a major disaster caused by a meteorite ...</td>\n",
       "      <td>after a major disaster caused by a meteorite f...</td>\n",
       "    </tr>\n",
       "    <tr>\n",
       "      <th>75</th>\n",
       "      <td>76</td>\n",
       "      <td>28426</td>\n",
       "      <td>Starship Troopers</td>\n",
       "      <td>Robert A. Heinlein</td>\n",
       "      <td>[Science Fiction, Speculative fiction, Fiction]</td>\n",
       "      <td>Starship Troopers takes place in the midst of...</td>\n",
       "      <td>starship troopers takes place in the midst of ...</td>\n",
       "    </tr>\n",
       "  </tbody>\n",
       "</table>\n",
       "</div>"
      ],
      "text/plain": [
       "    Index     ID             BookTitle              Author  \\\n",
       "2       3    986            The Plague        Albert Camus   \n",
       "35     36  10951        Fahrenheit 451        Ray Bradbury   \n",
       "57     58  22113               No Logo         Naomi Klein   \n",
       "72     73  26476  Rendezvous with Rama    Arthur C. Clarke   \n",
       "75     76  28426     Starship Troopers  Robert A. Heinlein   \n",
       "\n",
       "                                                Genre  \\\n",
       "2   [Existentialism, Fiction, Absurdist fiction, N...   \n",
       "35  [Science Fiction, Children's literature, Specu...   \n",
       "57  [Business, Non-fiction, Economics, Anthropolog...   \n",
       "72  [Hard science fiction, Science Fiction, Specul...   \n",
       "75    [Science Fiction, Speculative fiction, Fiction]   \n",
       "\n",
       "                                              Summary  \\\n",
       "2    The text of The Plague is divided into five p...   \n",
       "35   On a rainy night while returning from his job...   \n",
       "57   The book comprises four sections: \"No Space\",...   \n",
       "72   After a major disaster caused by a meteorite ...   \n",
       "75   Starship Troopers takes place in the midst of...   \n",
       "\n",
       "                                        clean_summary  \n",
       "2   the text of the plague is divided into five pa...  \n",
       "35  on a rainy night while returning from his job ...  \n",
       "57  the book comprises four sections no space no c...  \n",
       "72  after a major disaster caused by a meteorite f...  \n",
       "75  starship troopers takes place in the midst of ...  "
      ]
     },
     "execution_count": 21,
     "metadata": {},
     "output_type": "execute_result"
    }
   ],
   "source": [
    "df.loc[df['Index'].isin(results['docno'].astype('int64').tolist())].head()"
   ]
  },
  {
   "cell_type": "code",
   "execution_count": null,
   "metadata": {},
   "outputs": [],
   "source": []
  }
 ],
 "metadata": {
  "kernelspec": {
   "display_name": "nlp",
   "language": "python",
   "name": "python3"
  },
  "language_info": {
   "codemirror_mode": {
    "name": "ipython",
    "version": 3
   },
   "file_extension": ".py",
   "mimetype": "text/x-python",
   "name": "python",
   "nbconvert_exporter": "python",
   "pygments_lexer": "ipython3",
   "version": "3.9.16"
  },
  "orig_nbformat": 4
 },
 "nbformat": 4,
 "nbformat_minor": 2
}
